{
 "cells": [
  {
   "cell_type": "code",
   "execution_count": 4,
   "metadata": {},
   "outputs": [],
   "source": [
    "import pandas as pd\n",
    "from ydata_profiling import ProfileReport"
   ]
  },
  {
   "cell_type": "code",
   "execution_count": 6,
   "metadata": {},
   "outputs": [],
   "source": [
    "\n",
    "traindata = pd.read_csv('/Users/camillecu/Downloads/KUL/AdvancedAnalytic/AdvancedAnalytics_Assignments/Assignment1/data/train.csv')\n"
   ]
  },
  {
   "cell_type": "code",
   "execution_count": 7,
   "metadata": {},
   "outputs": [],
   "source": [
    "#encode Gender column\n",
    "from sklearn.preprocessing import LabelEncoder\n",
    "\n",
    "# Initialize LabelEncoder\n",
    "label_encoder = LabelEncoder()\n",
    "\n",
    "# Fit label encoder and transform the \"Gender\" column in both training and validation sets\n",
    "traindata['Gender'] = label_encoder.fit_transform(traindata['Gender'])\n",
    "\n"
   ]
  },
  {
   "cell_type": "code",
   "execution_count": 11,
   "metadata": {},
   "outputs": [
    {
     "name": "stderr",
     "output_type": "stream",
     "text": [
      "/var/folders/cv/bbbq9ykj0jg6pt6c7tx5_vjh0000gn/T/ipykernel_24694/931549513.py:2: UserWarning: Could not infer format, so each element will be parsed individually, falling back to `dateutil`. To ensure parsing is consistent and as-expected, please specify a format.\n",
      "  traindata['Connect_Date'] = pd.to_datetime(traindata['Connect_Date'])\n"
     ]
    }
   ],
   "source": [
    "# Convert 'Connect_Date' to datetime format\n",
    "traindata['Connect_Date'] = pd.to_datetime(traindata['Connect_Date'])\n",
    "\n",
    "\n",
    "# Extract year, month, and day\n",
    "traindata['Connect_Year'] = traindata['Connect_Date'].dt.year\n",
    "traindata['Connect_Month'] = traindata['Connect_Date'].dt.month\n",
    "traindata['Connect_Day'] = traindata['Connect_Date'].dt.day\n"
   ]
  },
  {
   "cell_type": "code",
   "execution_count": 14,
   "metadata": {},
   "outputs": [],
   "source": [
    "traindata = traindata.drop(['Connect_Date'], axis=1)"
   ]
  },
  {
   "cell_type": "code",
   "execution_count": 10,
   "metadata": {},
   "outputs": [],
   "source": [
    "# Use the LabelEncoder that's already defined to encode the 'high Dropped calls' column in X_train\n",
    "traindata['high Dropped calls'] = label_encoder.fit_transform(traindata['high Dropped calls'])\n",
    "\n"
   ]
  },
  {
   "cell_type": "code",
   "execution_count": 8,
   "metadata": {},
   "outputs": [],
   "source": [
    "traindata = traindata.drop('No Usage', axis=1)"
   ]
  },
  {
   "cell_type": "code",
   "execution_count": 9,
   "metadata": {},
   "outputs": [],
   "source": [
    "traindata = traindata.drop('id', axis=1)"
   ]
  },
  {
   "cell_type": "code",
   "execution_count": 15,
   "metadata": {},
   "outputs": [],
   "source": [
    "# Generate the ProfileReport and save it as an object\n",
    "traindata_profile = ProfileReport(traindata)"
   ]
  },
  {
   "cell_type": "markdown",
   "metadata": {},
   "source": [
    "\n",
    "1. **Gender**: Indicates the gender of the customer (e.g., \"F\" for female, \"M\" for male).\n",
    "2. **Age**: Represents the age of the customer.\n",
    "3. **Connect_Date**: Specifies the date when the customer connected to the telco service.\n",
    "4. **L_O_S**: Represents the length of service (presumably in months) for the customer.\n",
    "5. **Dropped_Calls**: Indicates the number of dropped calls experienced by the customer.\n",
    "6. **Tariff**: Specifies the tariff plan or subscription package of the customer.\n",
    "7. **Handset**: Represents the type or model of handset used by the customer.\n",
    "8. **Peak_calls_Sum**, **Peak_mins_Sum**: Represents the total number of peak calls and peak minutes used by the customer, respectively.\n",
    "9. **OffPeak_calls_Sum**, **OffPeak_mins_Sum**: Represents the total number of off-peak calls and off-peak minutes used by the customer, respectively.\n",
    "10. **Weekend_calls_Sum**, **Weekend_mins_Sum**: Represents the total number of weekend calls and weekend minutes used by the customer, respectively.\n",
    "11. **International_mins_Sum**: Represents the total number of international minutes used by the customer.\n",
    "12. **Nat_call_cost_Sum**: Represents the total national call cost incurred by the customer.\n",
    "13. **AvePeak**, **AveOffPeak**, **AveWeekend**: Represents the average duration of peak, off-peak, and weekend calls, respectively.\n",
    "14. **National_calls**, **National mins**: Represents the total number of national calls and national minutes used by the customer, respectively.\n",
    "15. **AveNational**: Represents the average duration of national calls.\n",
    "16. **All_calls_mins**: Represents the total duration of all calls made by the customer.\n",
    "17. **Dropped_calls_ratio**: Represents the ratio of dropped calls to total calls.\n",
    "18. **Usage_Band**: Indicates the usage band of the customer.\n",
    "19. **Mins_charge**: Represents the total charge for minutes used by the customer.\n",
    "20. **call_cost_per_min**: Represents the average call cost per minute.\n",
    "21. **actual call cost**: Represents the actual call cost incurred by the customer.\n",
    "22. **Total_call_cost**, **Total_Cost**: Represents the total call cost and total cost incurred by the customer, respectively.\n",
    "23. **Tariff_OK**: Indicates whether the tariff plan of the customer is okay.\n",
    "24. **average cost min**: Represents the average cost per minute.\n",
    "25. **Peak ratio**, **OffPeak ratio**, **Weekend ratio**: Represent the peak, off-peak, and weekend call ratios, respectively.\n",
    "26. **Nat-InterNat Ratio**: Represents the ratio of national to international calls.\n",
    "27. **high Dropped calls**: Indicates whether the customer has experienced high dropped calls.\n",
    "28. **No Usage**: Indicates whether the customer has not used the service.\n",
    "29. **target**: Represents the target variable, likely indicating whether the customer has churned or not (i.e., whether the customer has discontinued their service).\n",
    "30. **id**: Represents a unique identifier for each customer.\n",
    "\n"
   ]
  },
  {
   "cell_type": "code",
   "execution_count": 16,
   "metadata": {},
   "outputs": [
    {
     "data": {
      "application/vnd.jupyter.widget-view+json": {
       "model_id": "11db9d9e48274d5aaad4c0cbe008f34d",
       "version_major": 2,
       "version_minor": 0
      },
      "text/plain": [
       "Summarize dataset:   0%|          | 0/5 [00:00<?, ?it/s]"
      ]
     },
     "metadata": {},
     "output_type": "display_data"
    },
    {
     "name": "stderr",
     "output_type": "stream",
     "text": [
      "/Users/camillecu/Downloads/KUL/AdvancedAnalytic/AAassignments/lib/python3.11/site-packages/ydata_profiling/model/pandas/discretize_pandas.py:52: FutureWarning: Setting an item of incompatible dtype is deprecated and will raise in a future error of pandas. Value '[6 0 3 ... 9 6 6]' has dtype incompatible with int32, please explicitly cast to a compatible dtype first.\n",
      "  discretized_df.loc[:, column] = self._discretize_column(\n",
      "/Users/camillecu/Downloads/KUL/AdvancedAnalytic/AAassignments/lib/python3.11/site-packages/ydata_profiling/model/pandas/discretize_pandas.py:52: FutureWarning: Setting an item of incompatible dtype is deprecated and will raise in a future error of pandas. Value '[3 9 6 ... 6 0 9]' has dtype incompatible with int32, please explicitly cast to a compatible dtype first.\n",
      "  discretized_df.loc[:, column] = self._discretize_column(\n",
      "/Users/camillecu/Downloads/KUL/AdvancedAnalytic/AAassignments/lib/python3.11/site-packages/ydata_profiling/model/pandas/discretize_pandas.py:52: FutureWarning: Setting an item of incompatible dtype is deprecated and will raise in a future error of pandas. Value '[6 4 8 ... 1 0 3]' has dtype incompatible with int32, please explicitly cast to a compatible dtype first.\n",
      "  discretized_df.loc[:, column] = self._discretize_column(\n",
      "/Users/camillecu/Downloads/KUL/AdvancedAnalytic/AAassignments/lib/python3.11/site-packages/ydata_profiling/model/correlations.py:66: UserWarning: There was an attempt to calculate the auto correlation, but this failed.\n",
      "To hide this warning, disable the calculation\n",
      "(using `df.profile_report(correlations={\"auto\": {\"calculate\": False}})`\n",
      "If this is problematic for your use case, please report this as an issue:\n",
      "https://github.com/ydataai/ydata-profiling/issues\n",
      "(include the error message: 'could not convert string to float: 'BS210'')\n",
      "  warnings.warn(\n",
      "/Users/camillecu/Downloads/KUL/AdvancedAnalytic/AAassignments/lib/python3.11/site-packages/seaborn/matrix.py:260: FutureWarning: Format strings passed to MaskedConstant are ignored, but in future may error or produce different behavior\n",
      "  annotation = (\"{:\" + self.fmt + \"}\").format(val)\n",
      "/Users/camillecu/Downloads/KUL/AdvancedAnalytic/AAassignments/lib/python3.11/site-packages/ydata_profiling/model/missing.py:78: UserWarning: There was an attempt to generate the Heatmap missing values diagrams, but this failed.\n",
      "To hide this warning, disable the calculation\n",
      "(using `df.profile_report(missing_diagrams={\"Heatmap\": False}`)\n",
      "If this is problematic for your use case, please report this as an issue:\n",
      "https://github.com/ydataai/ydata-profiling/issues\n",
      "(include the error message: 'could not convert string to float: '--'')\n",
      "  warnings.warn(\n"
     ]
    },
    {
     "data": {
      "application/vnd.jupyter.widget-view+json": {
       "model_id": "2b75b8fad84b4f10aea0bb5e6c4cfc60",
       "version_major": 2,
       "version_minor": 0
      },
      "text/plain": [
       "Generate report structure:   0%|          | 0/1 [00:00<?, ?it/s]"
      ]
     },
     "metadata": {},
     "output_type": "display_data"
    },
    {
     "data": {
      "application/vnd.jupyter.widget-view+json": {
       "model_id": "49a7712baeff40abb0baceeb927d69a1",
       "version_major": 2,
       "version_minor": 0
      },
      "text/plain": [
       "Render HTML:   0%|          | 0/1 [00:00<?, ?it/s]"
      ]
     },
     "metadata": {},
     "output_type": "display_data"
    },
    {
     "data": {
      "application/vnd.jupyter.widget-view+json": {
       "model_id": "0173f45369fc42199a7acdfd571047a9",
       "version_major": 2,
       "version_minor": 0
      },
      "text/plain": [
       "Export report to file:   0%|          | 0/1 [00:00<?, ?it/s]"
      ]
     },
     "metadata": {},
     "output_type": "display_data"
    }
   ],
   "source": [
    "# Display the report\n",
    "\n",
    "traindata_profile.to_file(\"traindata_profile.html\")\n"
   ]
  }
 ],
 "metadata": {
  "kernelspec": {
   "display_name": "AAassignments",
   "language": "python",
   "name": "python3"
  },
  "language_info": {
   "codemirror_mode": {
    "name": "ipython",
    "version": 3
   },
   "file_extension": ".py",
   "mimetype": "text/x-python",
   "name": "python",
   "nbconvert_exporter": "python",
   "pygments_lexer": "ipython3",
   "version": "3.11.5"
  }
 },
 "nbformat": 4,
 "nbformat_minor": 2
}
