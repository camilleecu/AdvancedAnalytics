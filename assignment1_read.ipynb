{
 "cells": [
  {
   "cell_type": "code",
   "execution_count": 1,
   "metadata": {},
   "outputs": [],
   "source": [
    "import pandas as pd\n",
    "from ydata_profiling import ProfileReport"
   ]
  },
  {
   "cell_type": "code",
   "execution_count": 2,
   "metadata": {},
   "outputs": [
    {
     "data": {
      "text/html": [
       "<div>\n",
       "<style scoped>\n",
       "    .dataframe tbody tr th:only-of-type {\n",
       "        vertical-align: middle;\n",
       "    }\n",
       "\n",
       "    .dataframe tbody tr th {\n",
       "        vertical-align: top;\n",
       "    }\n",
       "\n",
       "    .dataframe thead th {\n",
       "        text-align: right;\n",
       "    }\n",
       "</style>\n",
       "<table border=\"1\" class=\"dataframe\">\n",
       "  <thead>\n",
       "    <tr style=\"text-align: right;\">\n",
       "      <th></th>\n",
       "      <th>Gender</th>\n",
       "      <th>Age</th>\n",
       "      <th>Connect_Date</th>\n",
       "      <th>L_O_S</th>\n",
       "      <th>Dropped_Calls</th>\n",
       "      <th>tariff</th>\n",
       "      <th>Handset</th>\n",
       "      <th>Peak_calls_Sum</th>\n",
       "      <th>Peak_mins_Sum</th>\n",
       "      <th>OffPeak_calls_Sum</th>\n",
       "      <th>...</th>\n",
       "      <th>Tariff_OK</th>\n",
       "      <th>average cost min</th>\n",
       "      <th>Peak ratio</th>\n",
       "      <th>OffPeak ratio</th>\n",
       "      <th>Weekend ratio</th>\n",
       "      <th>Nat-InterNat Ratio</th>\n",
       "      <th>high Dropped calls</th>\n",
       "      <th>No Usage</th>\n",
       "      <th>target</th>\n",
       "      <th>id</th>\n",
       "    </tr>\n",
       "  </thead>\n",
       "  <tbody>\n",
       "    <tr>\n",
       "      <th>0</th>\n",
       "      <td>F</td>\n",
       "      <td>50.0</td>\n",
       "      <td>20/05/98</td>\n",
       "      <td>29.200000</td>\n",
       "      <td>2.0</td>\n",
       "      <td>Play 100</td>\n",
       "      <td>BS210</td>\n",
       "      <td>62.0</td>\n",
       "      <td>153.000000</td>\n",
       "      <td>185.0</td>\n",
       "      <td>...</td>\n",
       "      <td>OK</td>\n",
       "      <td>0.150531</td>\n",
       "      <td>0.246536</td>\n",
       "      <td>0.706735</td>\n",
       "      <td>0.046729</td>\n",
       "      <td>0.203034</td>\n",
       "      <td>F</td>\n",
       "      <td>F</td>\n",
       "      <td>0</td>\n",
       "      <td>K262360</td>\n",
       "    </tr>\n",
       "    <tr>\n",
       "      <th>1</th>\n",
       "      <td>M</td>\n",
       "      <td>25.0</td>\n",
       "      <td>16/12/96</td>\n",
       "      <td>46.533333</td>\n",
       "      <td>1.0</td>\n",
       "      <td>CAT 100</td>\n",
       "      <td>ASAD90</td>\n",
       "      <td>146.0</td>\n",
       "      <td>718.800000</td>\n",
       "      <td>98.0</td>\n",
       "      <td>...</td>\n",
       "      <td>OK</td>\n",
       "      <td>0.188988</td>\n",
       "      <td>0.780710</td>\n",
       "      <td>0.178886</td>\n",
       "      <td>0.040404</td>\n",
       "      <td>0.273249</td>\n",
       "      <td>F</td>\n",
       "      <td>F</td>\n",
       "      <td>1</td>\n",
       "      <td>K170160</td>\n",
       "    </tr>\n",
       "    <tr>\n",
       "      <th>2</th>\n",
       "      <td>F</td>\n",
       "      <td>46.0</td>\n",
       "      <td>27/08/97</td>\n",
       "      <td>38.066667</td>\n",
       "      <td>1.0</td>\n",
       "      <td>CAT 50</td>\n",
       "      <td>WC95</td>\n",
       "      <td>160.0</td>\n",
       "      <td>322.800000</td>\n",
       "      <td>7.0</td>\n",
       "      <td>...</td>\n",
       "      <td>OK</td>\n",
       "      <td>0.239300</td>\n",
       "      <td>0.722633</td>\n",
       "      <td>0.277367</td>\n",
       "      <td>0.000000</td>\n",
       "      <td>0.205025</td>\n",
       "      <td>F</td>\n",
       "      <td>F</td>\n",
       "      <td>0</td>\n",
       "      <td>K331610</td>\n",
       "    </tr>\n",
       "    <tr>\n",
       "      <th>3</th>\n",
       "      <td>F</td>\n",
       "      <td>59.0</td>\n",
       "      <td>13/07/98</td>\n",
       "      <td>27.400000</td>\n",
       "      <td>1.0</td>\n",
       "      <td>CAT 50</td>\n",
       "      <td>BS110</td>\n",
       "      <td>84.0</td>\n",
       "      <td>317.400001</td>\n",
       "      <td>57.0</td>\n",
       "      <td>...</td>\n",
       "      <td>OK</td>\n",
       "      <td>0.221467</td>\n",
       "      <td>0.662492</td>\n",
       "      <td>0.337508</td>\n",
       "      <td>0.000000</td>\n",
       "      <td>0.050090</td>\n",
       "      <td>F</td>\n",
       "      <td>F</td>\n",
       "      <td>0</td>\n",
       "      <td>K332460</td>\n",
       "    </tr>\n",
       "    <tr>\n",
       "      <th>4</th>\n",
       "      <td>F</td>\n",
       "      <td>25.0</td>\n",
       "      <td>08/01/99</td>\n",
       "      <td>21.433333</td>\n",
       "      <td>1.0</td>\n",
       "      <td>Play 300</td>\n",
       "      <td>WC95</td>\n",
       "      <td>14.0</td>\n",
       "      <td>309.600000</td>\n",
       "      <td>326.0</td>\n",
       "      <td>...</td>\n",
       "      <td>OK</td>\n",
       "      <td>0.107509</td>\n",
       "      <td>0.321896</td>\n",
       "      <td>0.663132</td>\n",
       "      <td>0.014972</td>\n",
       "      <td>0.090509</td>\n",
       "      <td>F</td>\n",
       "      <td>F</td>\n",
       "      <td>0</td>\n",
       "      <td>K394220</td>\n",
       "    </tr>\n",
       "  </tbody>\n",
       "</table>\n",
       "<p>5 rows × 39 columns</p>\n",
       "</div>"
      ],
      "text/plain": [
       "  Gender   Age Connect_Date      L_O_S  Dropped_Calls    tariff Handset  \\\n",
       "0      F  50.0     20/05/98  29.200000            2.0  Play 100   BS210   \n",
       "1      M  25.0     16/12/96  46.533333            1.0   CAT 100  ASAD90   \n",
       "2      F  46.0     27/08/97  38.066667            1.0    CAT 50    WC95   \n",
       "3      F  59.0     13/07/98  27.400000            1.0    CAT 50   BS110   \n",
       "4      F  25.0     08/01/99  21.433333            1.0  Play 300    WC95   \n",
       "\n",
       "   Peak_calls_Sum  Peak_mins_Sum  OffPeak_calls_Sum  ...  Tariff_OK  \\\n",
       "0            62.0     153.000000              185.0  ...         OK   \n",
       "1           146.0     718.800000               98.0  ...         OK   \n",
       "2           160.0     322.800000                7.0  ...         OK   \n",
       "3            84.0     317.400001               57.0  ...         OK   \n",
       "4            14.0     309.600000              326.0  ...         OK   \n",
       "\n",
       "   average cost min  Peak ratio  OffPeak ratio  Weekend ratio  \\\n",
       "0          0.150531    0.246536       0.706735       0.046729   \n",
       "1          0.188988    0.780710       0.178886       0.040404   \n",
       "2          0.239300    0.722633       0.277367       0.000000   \n",
       "3          0.221467    0.662492       0.337508       0.000000   \n",
       "4          0.107509    0.321896       0.663132       0.014972   \n",
       "\n",
       "   Nat-InterNat Ratio  high Dropped calls  No Usage  target       id  \n",
       "0            0.203034                   F         F       0  K262360  \n",
       "1            0.273249                   F         F       1  K170160  \n",
       "2            0.205025                   F         F       0  K331610  \n",
       "3            0.050090                   F         F       0  K332460  \n",
       "4            0.090509                   F         F       0  K394220  \n",
       "\n",
       "[5 rows x 39 columns]"
      ]
     },
     "execution_count": 2,
     "metadata": {},
     "output_type": "execute_result"
    }
   ],
   "source": [
    "\n",
    "traindata = pd.read_csv('/Users/camillecu/Downloads/KUL/AdvancedAnalytic/Assignment1/data/train.csv')\n",
    "traindata.head()"
   ]
  },
  {
   "cell_type": "code",
   "execution_count": 3,
   "metadata": {},
   "outputs": [],
   "source": [
    "# Generate the ProfileReport and save it as an object\n",
    "traindata_profile = ProfileReport(traindata)"
   ]
  },
  {
   "cell_type": "markdown",
   "metadata": {},
   "source": [
    "\n",
    "1. **Gender**: Indicates the gender of the customer (e.g., \"F\" for female, \"M\" for male).\n",
    "2. **Age**: Represents the age of the customer.\n",
    "3. **Connect_Date**: Specifies the date when the customer connected to the telco service.\n",
    "4. **L_O_S**: Represents the length of service (presumably in months) for the customer.\n",
    "5. **Dropped_Calls**: Indicates the number of dropped calls experienced by the customer.\n",
    "6. **Tariff**: Specifies the tariff plan or subscription package of the customer.\n",
    "7. **Handset**: Represents the type or model of handset used by the customer.\n",
    "8. **Peak_calls_Sum**, **Peak_mins_Sum**: Represents the total number of peak calls and peak minutes used by the customer, respectively.\n",
    "9. **OffPeak_calls_Sum**, **OffPeak_mins_Sum**: Represents the total number of off-peak calls and off-peak minutes used by the customer, respectively.\n",
    "10. **Weekend_calls_Sum**, **Weekend_mins_Sum**: Represents the total number of weekend calls and weekend minutes used by the customer, respectively.\n",
    "11. **International_mins_Sum**: Represents the total number of international minutes used by the customer.\n",
    "12. **Nat_call_cost_Sum**: Represents the total national call cost incurred by the customer.\n",
    "13. **AvePeak**, **AveOffPeak**, **AveWeekend**: Represents the average duration of peak, off-peak, and weekend calls, respectively.\n",
    "14. **National_calls**, **National mins**: Represents the total number of national calls and national minutes used by the customer, respectively.\n",
    "15. **AveNational**: Represents the average duration of national calls.\n",
    "16. **All_calls_mins**: Represents the total duration of all calls made by the customer.\n",
    "17. **Dropped_calls_ratio**: Represents the ratio of dropped calls to total calls.\n",
    "18. **Usage_Band**: Indicates the usage band of the customer.\n",
    "19. **Mins_charge**: Represents the total charge for minutes used by the customer.\n",
    "20. **call_cost_per_min**: Represents the average call cost per minute.\n",
    "21. **actual call cost**: Represents the actual call cost incurred by the customer.\n",
    "22. **Total_call_cost**, **Total_Cost**: Represents the total call cost and total cost incurred by the customer, respectively.\n",
    "23. **Tariff_OK**: Indicates whether the tariff plan of the customer is okay.\n",
    "24. **average cost min**: Represents the average cost per minute.\n",
    "25. **Peak ratio**, **OffPeak ratio**, **Weekend ratio**: Represent the peak, off-peak, and weekend call ratios, respectively.\n",
    "26. **Nat-InterNat Ratio**: Represents the ratio of national to international calls.\n",
    "27. **high Dropped calls**: Indicates whether the customer has experienced high dropped calls.\n",
    "28. **No Usage**: Indicates whether the customer has not used the service.\n",
    "29. **target**: Represents the target variable, likely indicating whether the customer has churned or not (i.e., whether the customer has discontinued their service).\n",
    "30. **id**: Represents a unique identifier for each customer.\n",
    "\n"
   ]
  },
  {
   "cell_type": "code",
   "execution_count": 4,
   "metadata": {},
   "outputs": [
    {
     "data": {
      "application/vnd.jupyter.widget-view+json": {
       "model_id": "028a15b7de0a4df8beb571d7ce0d0588",
       "version_major": 2,
       "version_minor": 0
      },
      "text/plain": [
       "Summarize dataset:   0%|          | 0/5 [00:00<?, ?it/s]"
      ]
     },
     "metadata": {},
     "output_type": "display_data"
    },
    {
     "name": "stderr",
     "output_type": "stream",
     "text": [
      "/Users/camillecu/Downloads/KUL/AdvancedAnalytic/AAassignments/lib/python3.11/site-packages/ydata_profiling/model/correlations.py:66: UserWarning: There was an attempt to calculate the auto correlation, but this failed.\n",
      "To hide this warning, disable the calculation\n",
      "(using `df.profile_report(correlations={\"auto\": {\"calculate\": False}})`\n",
      "If this is problematic for your use case, please report this as an issue:\n",
      "https://github.com/ydataai/ydata-profiling/issues\n",
      "(include the error message: 'could not convert string to float: 'F'')\n",
      "  warnings.warn(\n",
      "/Users/camillecu/Downloads/KUL/AdvancedAnalytic/AAassignments/lib/python3.11/site-packages/seaborn/matrix.py:260: FutureWarning: Format strings passed to MaskedConstant are ignored, but in future may error or produce different behavior\n",
      "  annotation = (\"{:\" + self.fmt + \"}\").format(val)\n",
      "/Users/camillecu/Downloads/KUL/AdvancedAnalytic/AAassignments/lib/python3.11/site-packages/ydata_profiling/model/missing.py:78: UserWarning: There was an attempt to generate the Heatmap missing values diagrams, but this failed.\n",
      "To hide this warning, disable the calculation\n",
      "(using `df.profile_report(missing_diagrams={\"Heatmap\": False}`)\n",
      "If this is problematic for your use case, please report this as an issue:\n",
      "https://github.com/ydataai/ydata-profiling/issues\n",
      "(include the error message: 'could not convert string to float: '--'')\n",
      "  warnings.warn(\n"
     ]
    },
    {
     "data": {
      "application/vnd.jupyter.widget-view+json": {
       "model_id": "e8eac20df253469caefe0f4ecdeb5107",
       "version_major": 2,
       "version_minor": 0
      },
      "text/plain": [
       "Generate report structure:   0%|          | 0/1 [00:00<?, ?it/s]"
      ]
     },
     "metadata": {},
     "output_type": "display_data"
    },
    {
     "data": {
      "application/vnd.jupyter.widget-view+json": {
       "model_id": "778c1167471046cb98caed4be5e01e19",
       "version_major": 2,
       "version_minor": 0
      },
      "text/plain": [
       "Render HTML:   0%|          | 0/1 [00:00<?, ?it/s]"
      ]
     },
     "metadata": {},
     "output_type": "display_data"
    },
    {
     "data": {
      "application/vnd.jupyter.widget-view+json": {
       "model_id": "cd4ebbdafbee4821afb6d0b019413125",
       "version_major": 2,
       "version_minor": 0
      },
      "text/plain": [
       "Export report to file:   0%|          | 0/1 [00:00<?, ?it/s]"
      ]
     },
     "metadata": {},
     "output_type": "display_data"
    }
   ],
   "source": [
    "# Display the report\n",
    "\n",
    "traindata_profile.to_file(\"traindata_profile.html\")\n"
   ]
  }
 ],
 "metadata": {
  "kernelspec": {
   "display_name": "AAassignments",
   "language": "python",
   "name": "python3"
  },
  "language_info": {
   "codemirror_mode": {
    "name": "ipython",
    "version": 3
   },
   "file_extension": ".py",
   "mimetype": "text/x-python",
   "name": "python",
   "nbconvert_exporter": "python",
   "pygments_lexer": "ipython3",
   "version": "3.11.5"
  }
 },
 "nbformat": 4,
 "nbformat_minor": 2
}
