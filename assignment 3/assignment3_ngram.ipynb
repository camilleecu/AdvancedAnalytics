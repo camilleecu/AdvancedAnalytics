{
 "cells": [
  {
   "cell_type": "code",
   "execution_count": 1,
   "metadata": {},
   "outputs": [
    {
     "name": "stderr",
     "output_type": "stream",
     "text": [
      "/Users/camillecu/anaconda3/envs/my_environment/lib/python3.12/site-packages/threadpoolctl.py:1214: RuntimeWarning: \n",
      "Found Intel OpenMP ('libiomp') and LLVM OpenMP ('libomp') loaded at\n",
      "the same time. Both libraries are known to be incompatible and this\n",
      "can cause random crashes or deadlocks on Linux when loaded in the\n",
      "same Python program.\n",
      "Using threadpoolctl may cause crashes or deadlocks. For more\n",
      "information and possible workarounds, please see\n",
      "    https://github.com/joblib/threadpoolctl/blob/master/multiple_openmp.md\n",
      "\n",
      "  warnings.warn(msg, RuntimeWarning)\n"
     ]
    }
   ],
   "source": [
    "import os\n",
    "import json\n",
    "import pandas as pd\n",
    "from pyspark.sql import SparkSession\n",
    "from pyspark.ml.feature import Tokenizer, StopWordsRemover, NGram, CountVectorizer, IDF, VectorAssembler\n",
    "from pyspark.sql.functions import regexp_replace, lower, col\n",
    "from pyspark.ml.feature import HashingTF\n",
    "from pyspark.ml.classification import LogisticRegression\n",
    "from sklearn.metrics import accuracy_score\n",
    "from sklearn.metrics import confusion_matrix\n",
    "from sklearn.metrics import roc_curve, roc_auc_score\n",
    "import matplotlib.pyplot as plt\n",
    "import numpy as np\n",
    "from pyspark.ml import Pipeline\n",
    "from pyspark.ml.feature import StringIndexer, VectorAssembler\n",
    "from pyspark.sql.functions import hour, dayofweek, month, year, weekofyear\n",
    "\n"
   ]
  },
  {
   "cell_type": "markdown",
   "metadata": {},
   "source": [
    "# load data"
   ]
  },
  {
   "cell_type": "code",
   "execution_count": 2,
   "metadata": {},
   "outputs": [
    {
     "name": "stdout",
     "output_type": "stream",
     "text": [
      "/Users/camillecu/Downloads/KUL/AdvancedAnalytic/AdvancedAnalytics_Assignments/assignment 3/saved-stories/saved_stories-1715625960000/part-00017\n",
      "/Users/camillecu/Downloads/KUL/AdvancedAnalytic/AdvancedAnalytics_Assignments/assignment 3/saved-stories/saved_stories-1715625960000/part-00028\n",
      "/Users/camillecu/Downloads/KUL/AdvancedAnalytic/AdvancedAnalytics_Assignments/assignment 3/saved-stories/saved_stories-1715625960000/part-00010\n",
      "/Users/camillecu/Downloads/KUL/AdvancedAnalytic/AdvancedAnalytics_Assignments/assignment 3/saved-stories/saved_stories-1715625960000/part-00026\n",
      "/Users/camillecu/Downloads/KUL/AdvancedAnalytic/AdvancedAnalytics_Assignments/assignment 3/saved-stories/saved_stories-1715625960000/part-00019\n",
      "/Users/camillecu/Downloads/KUL/AdvancedAnalytic/AdvancedAnalytics_Assignments/assignment 3/saved-stories/saved_stories-1715625960000/part-00021\n",
      "/Users/camillecu/Downloads/KUL/AdvancedAnalytic/AdvancedAnalytics_Assignments/assignment 3/saved-stories/saved_stories-1715625960000/part-00044\n",
      "/Users/camillecu/Downloads/KUL/AdvancedAnalytic/AdvancedAnalytics_Assignments/assignment 3/saved-stories/saved_stories-1715625960000/part-00043\n",
      "/Users/camillecu/Downloads/KUL/AdvancedAnalytic/AdvancedAnalytics_Assignments/assignment 3/saved-stories/saved_stories-1715625960000/part-00020\n",
      "/Users/camillecu/Downloads/KUL/AdvancedAnalytic/AdvancedAnalytics_Assignments/assignment 3/saved-stories/saved_stories-1715625960000/part-00027\n",
      "/Users/camillecu/Downloads/KUL/AdvancedAnalytic/AdvancedAnalytics_Assignments/assignment 3/saved-stories/saved_stories-1715625960000/part-00018\n",
      "/Users/camillecu/Downloads/KUL/AdvancedAnalytic/AdvancedAnalytics_Assignments/assignment 3/saved-stories/saved_stories-1715625960000/part-00011\n",
      "/Users/camillecu/Downloads/KUL/AdvancedAnalytic/AdvancedAnalytics_Assignments/assignment 3/saved-stories/saved_stories-1715625960000/part-00016\n",
      "/Users/camillecu/Downloads/KUL/AdvancedAnalytic/AdvancedAnalytics_Assignments/assignment 3/saved-stories/saved_stories-1715625960000/part-00029\n",
      "/Users/camillecu/Downloads/KUL/AdvancedAnalytic/AdvancedAnalytics_Assignments/assignment 3/saved-stories/saved_stories-1715625960000/part-00042\n",
      "/Users/camillecu/Downloads/KUL/AdvancedAnalytic/AdvancedAnalytics_Assignments/assignment 3/saved-stories/saved_stories-1715625960000/part-00045\n",
      "/Users/camillecu/Downloads/KUL/AdvancedAnalytic/AdvancedAnalytics_Assignments/assignment 3/saved-stories/saved_stories-1715625960000/part-00056\n",
      "/Users/camillecu/Downloads/KUL/AdvancedAnalytic/AdvancedAnalytics_Assignments/assignment 3/saved-stories/saved_stories-1715625960000/part-00069\n",
      "/Users/camillecu/Downloads/KUL/AdvancedAnalytic/AdvancedAnalytics_Assignments/assignment 3/saved-stories/saved_stories-1715625960000/part-00051\n",
      "/Users/camillecu/Downloads/KUL/AdvancedAnalytic/AdvancedAnalytics_Assignments/assignment 3/saved-stories/saved_stories-1715625960000/part-00067\n",
      "/Users/camillecu/Downloads/KUL/AdvancedAnalytic/AdvancedAnalytics_Assignments/assignment 3/saved-stories/saved_stories-1715625960000/part-00058\n",
      "/Users/camillecu/Downloads/KUL/AdvancedAnalytic/AdvancedAnalytics_Assignments/assignment 3/saved-stories/saved_stories-1715625960000/part-00060\n",
      "/Users/camillecu/Downloads/KUL/AdvancedAnalytic/AdvancedAnalytics_Assignments/assignment 3/saved-stories/saved_stories-1715625960000/part-00034\n",
      "/Users/camillecu/Downloads/KUL/AdvancedAnalytic/AdvancedAnalytics_Assignments/assignment 3/saved-stories/saved_stories-1715625960000/part-00033\n",
      "/Users/camillecu/Downloads/KUL/AdvancedAnalytic/AdvancedAnalytics_Assignments/assignment 3/saved-stories/saved_stories-1715625960000/part-00005\n",
      "/Users/camillecu/Downloads/KUL/AdvancedAnalytic/AdvancedAnalytics_Assignments/assignment 3/saved-stories/saved_stories-1715625960000/part-00002\n",
      "/Users/camillecu/Downloads/KUL/AdvancedAnalytic/AdvancedAnalytics_Assignments/assignment 3/saved-stories/saved_stories-1715625960000/part-00061\n",
      "/Users/camillecu/Downloads/KUL/AdvancedAnalytic/AdvancedAnalytics_Assignments/assignment 3/saved-stories/saved_stories-1715625960000/part-00066\n",
      "/Users/camillecu/Downloads/KUL/AdvancedAnalytic/AdvancedAnalytics_Assignments/assignment 3/saved-stories/saved_stories-1715625960000/part-00059\n",
      "/Users/camillecu/Downloads/KUL/AdvancedAnalytic/AdvancedAnalytics_Assignments/assignment 3/saved-stories/saved_stories-1715625960000/part-00050\n",
      "/Users/camillecu/Downloads/KUL/AdvancedAnalytic/AdvancedAnalytics_Assignments/assignment 3/saved-stories/saved_stories-1715625960000/part-00057\n",
      "/Users/camillecu/Downloads/KUL/AdvancedAnalytic/AdvancedAnalytics_Assignments/assignment 3/saved-stories/saved_stories-1715625960000/part-00068\n",
      "/Users/camillecu/Downloads/KUL/AdvancedAnalytic/AdvancedAnalytics_Assignments/assignment 3/saved-stories/saved_stories-1715625960000/part-00003\n",
      "/Users/camillecu/Downloads/KUL/AdvancedAnalytic/AdvancedAnalytics_Assignments/assignment 3/saved-stories/saved_stories-1715625960000/part-00004\n",
      "/Users/camillecu/Downloads/KUL/AdvancedAnalytic/AdvancedAnalytics_Assignments/assignment 3/saved-stories/saved_stories-1715625960000/part-00032\n",
      "/Users/camillecu/Downloads/KUL/AdvancedAnalytic/AdvancedAnalytics_Assignments/assignment 3/saved-stories/saved_stories-1715625960000/part-00035\n",
      "/Users/camillecu/Downloads/KUL/AdvancedAnalytic/AdvancedAnalytics_Assignments/assignment 3/saved-stories/saved_stories-1715625960000/part-00049\n",
      "/Users/camillecu/Downloads/KUL/AdvancedAnalytic/AdvancedAnalytics_Assignments/assignment 3/saved-stories/saved_stories-1715625960000/part-00040\n",
      "/Users/camillecu/Downloads/KUL/AdvancedAnalytic/AdvancedAnalytics_Assignments/assignment 3/saved-stories/saved_stories-1715625960000/part-00047\n",
      "/Users/camillecu/Downloads/KUL/AdvancedAnalytic/AdvancedAnalytics_Assignments/assignment 3/saved-stories/saved_stories-1715625960000/part-00013\n",
      "/Users/camillecu/Downloads/KUL/AdvancedAnalytic/AdvancedAnalytics_Assignments/assignment 3/saved-stories/saved_stories-1715625960000/part-00014\n",
      "/Users/camillecu/Downloads/KUL/AdvancedAnalytic/AdvancedAnalytics_Assignments/assignment 3/saved-stories/saved_stories-1715625960000/part-00022\n",
      "/Users/camillecu/Downloads/KUL/AdvancedAnalytic/AdvancedAnalytics_Assignments/assignment 3/saved-stories/saved_stories-1715625960000/part-00025\n",
      "/Users/camillecu/Downloads/KUL/AdvancedAnalytic/AdvancedAnalytics_Assignments/assignment 3/saved-stories/saved_stories-1715625960000/part-00046\n",
      "/Users/camillecu/Downloads/KUL/AdvancedAnalytic/AdvancedAnalytics_Assignments/assignment 3/saved-stories/saved_stories-1715625960000/part-00041\n",
      "/Users/camillecu/Downloads/KUL/AdvancedAnalytic/AdvancedAnalytics_Assignments/assignment 3/saved-stories/saved_stories-1715625960000/part-00048\n",
      "/Users/camillecu/Downloads/KUL/AdvancedAnalytic/AdvancedAnalytics_Assignments/assignment 3/saved-stories/saved_stories-1715625960000/part-00070\n",
      "/Users/camillecu/Downloads/KUL/AdvancedAnalytic/AdvancedAnalytics_Assignments/assignment 3/saved-stories/saved_stories-1715625960000/part-00024\n",
      "/Users/camillecu/Downloads/KUL/AdvancedAnalytic/AdvancedAnalytics_Assignments/assignment 3/saved-stories/saved_stories-1715625960000/part-00023\n",
      "/Users/camillecu/Downloads/KUL/AdvancedAnalytic/AdvancedAnalytics_Assignments/assignment 3/saved-stories/saved_stories-1715625960000/part-00015\n",
      "/Users/camillecu/Downloads/KUL/AdvancedAnalytic/AdvancedAnalytics_Assignments/assignment 3/saved-stories/saved_stories-1715625960000/part-00012\n",
      "/Users/camillecu/Downloads/KUL/AdvancedAnalytic/AdvancedAnalytics_Assignments/assignment 3/saved-stories/saved_stories-1715625960000/part-00030\n",
      "/Users/camillecu/Downloads/KUL/AdvancedAnalytic/AdvancedAnalytics_Assignments/assignment 3/saved-stories/saved_stories-1715625960000/part-00008\n",
      "/Users/camillecu/Downloads/KUL/AdvancedAnalytic/AdvancedAnalytics_Assignments/assignment 3/saved-stories/saved_stories-1715625960000/part-00037\n",
      "/Users/camillecu/Downloads/KUL/AdvancedAnalytic/AdvancedAnalytics_Assignments/assignment 3/saved-stories/saved_stories-1715625960000/part-00001\n",
      "/Users/camillecu/Downloads/KUL/AdvancedAnalytic/AdvancedAnalytics_Assignments/assignment 3/saved-stories/saved_stories-1715625960000/part-00039\n",
      "/Users/camillecu/Downloads/KUL/AdvancedAnalytic/AdvancedAnalytics_Assignments/assignment 3/saved-stories/saved_stories-1715625960000/part-00006\n",
      "/Users/camillecu/Downloads/KUL/AdvancedAnalytic/AdvancedAnalytics_Assignments/assignment 3/saved-stories/saved_stories-1715625960000/part-00052\n",
      "/Users/camillecu/Downloads/KUL/AdvancedAnalytic/AdvancedAnalytics_Assignments/assignment 3/saved-stories/saved_stories-1715625960000/part-00055\n",
      "/Users/camillecu/Downloads/KUL/AdvancedAnalytic/AdvancedAnalytics_Assignments/assignment 3/saved-stories/saved_stories-1715625960000/part-00063\n",
      "/Users/camillecu/Downloads/KUL/AdvancedAnalytic/AdvancedAnalytics_Assignments/assignment 3/saved-stories/saved_stories-1715625960000/part-00064\n",
      "/Users/camillecu/Downloads/KUL/AdvancedAnalytic/AdvancedAnalytics_Assignments/assignment 3/saved-stories/saved_stories-1715625960000/part-00038\n",
      "/Users/camillecu/Downloads/KUL/AdvancedAnalytic/AdvancedAnalytics_Assignments/assignment 3/saved-stories/saved_stories-1715625960000/part-00007\n",
      "/Users/camillecu/Downloads/KUL/AdvancedAnalytic/AdvancedAnalytics_Assignments/assignment 3/saved-stories/saved_stories-1715625960000/part-00000\n",
      "/Users/camillecu/Downloads/KUL/AdvancedAnalytic/AdvancedAnalytics_Assignments/assignment 3/saved-stories/saved_stories-1715625960000/part-00009\n",
      "/Users/camillecu/Downloads/KUL/AdvancedAnalytic/AdvancedAnalytics_Assignments/assignment 3/saved-stories/saved_stories-1715625960000/part-00036\n",
      "/Users/camillecu/Downloads/KUL/AdvancedAnalytic/AdvancedAnalytics_Assignments/assignment 3/saved-stories/saved_stories-1715625960000/part-00031\n",
      "/Users/camillecu/Downloads/KUL/AdvancedAnalytic/AdvancedAnalytics_Assignments/assignment 3/saved-stories/saved_stories-1715625960000/part-00065\n",
      "/Users/camillecu/Downloads/KUL/AdvancedAnalytic/AdvancedAnalytics_Assignments/assignment 3/saved-stories/saved_stories-1715625960000/part-00062\n",
      "/Users/camillecu/Downloads/KUL/AdvancedAnalytic/AdvancedAnalytics_Assignments/assignment 3/saved-stories/saved_stories-1715625960000/part-00054\n",
      "/Users/camillecu/Downloads/KUL/AdvancedAnalytic/AdvancedAnalytics_Assignments/assignment 3/saved-stories/saved_stories-1715625960000/part-00053\n",
      "/Users/camillecu/Downloads/KUL/AdvancedAnalytic/AdvancedAnalytics_Assignments/assignment 3/saved-stories/saved_stories-1715626080000/part-00017\n",
      "/Users/camillecu/Downloads/KUL/AdvancedAnalytic/AdvancedAnalytics_Assignments/assignment 3/saved-stories/saved_stories-1715626080000/part-00028\n",
      "/Users/camillecu/Downloads/KUL/AdvancedAnalytic/AdvancedAnalytics_Assignments/assignment 3/saved-stories/saved_stories-1715626080000/part-00010\n",
      "/Users/camillecu/Downloads/KUL/AdvancedAnalytic/AdvancedAnalytics_Assignments/assignment 3/saved-stories/saved_stories-1715626080000/part-00026\n",
      "/Users/camillecu/Downloads/KUL/AdvancedAnalytic/AdvancedAnalytics_Assignments/assignment 3/saved-stories/saved_stories-1715626080000/part-00019\n",
      "/Users/camillecu/Downloads/KUL/AdvancedAnalytic/AdvancedAnalytics_Assignments/assignment 3/saved-stories/saved_stories-1715626080000/part-00021\n",
      "/Users/camillecu/Downloads/KUL/AdvancedAnalytic/AdvancedAnalytics_Assignments/assignment 3/saved-stories/saved_stories-1715626080000/part-00020\n",
      "/Users/camillecu/Downloads/KUL/AdvancedAnalytic/AdvancedAnalytics_Assignments/assignment 3/saved-stories/saved_stories-1715626080000/part-00027\n",
      "/Users/camillecu/Downloads/KUL/AdvancedAnalytic/AdvancedAnalytics_Assignments/assignment 3/saved-stories/saved_stories-1715626080000/part-00018\n",
      "/Users/camillecu/Downloads/KUL/AdvancedAnalytic/AdvancedAnalytics_Assignments/assignment 3/saved-stories/saved_stories-1715626080000/part-00011\n",
      "/Users/camillecu/Downloads/KUL/AdvancedAnalytic/AdvancedAnalytics_Assignments/assignment 3/saved-stories/saved_stories-1715626080000/part-00016\n",
      "/Users/camillecu/Downloads/KUL/AdvancedAnalytic/AdvancedAnalytics_Assignments/assignment 3/saved-stories/saved_stories-1715626080000/part-00029\n",
      "/Users/camillecu/Downloads/KUL/AdvancedAnalytic/AdvancedAnalytics_Assignments/assignment 3/saved-stories/saved_stories-1715626080000/part-00034\n",
      "/Users/camillecu/Downloads/KUL/AdvancedAnalytic/AdvancedAnalytics_Assignments/assignment 3/saved-stories/saved_stories-1715626080000/part-00033\n",
      "/Users/camillecu/Downloads/KUL/AdvancedAnalytic/AdvancedAnalytics_Assignments/assignment 3/saved-stories/saved_stories-1715626080000/part-00005\n",
      "/Users/camillecu/Downloads/KUL/AdvancedAnalytic/AdvancedAnalytics_Assignments/assignment 3/saved-stories/saved_stories-1715626080000/part-00002\n",
      "/Users/camillecu/Downloads/KUL/AdvancedAnalytic/AdvancedAnalytics_Assignments/assignment 3/saved-stories/saved_stories-1715626080000/part-00003\n",
      "/Users/camillecu/Downloads/KUL/AdvancedAnalytic/AdvancedAnalytics_Assignments/assignment 3/saved-stories/saved_stories-1715626080000/part-00004\n",
      "/Users/camillecu/Downloads/KUL/AdvancedAnalytic/AdvancedAnalytics_Assignments/assignment 3/saved-stories/saved_stories-1715626080000/part-00032\n",
      "/Users/camillecu/Downloads/KUL/AdvancedAnalytic/AdvancedAnalytics_Assignments/assignment 3/saved-stories/saved_stories-1715626080000/part-00035\n",
      "/Users/camillecu/Downloads/KUL/AdvancedAnalytic/AdvancedAnalytics_Assignments/assignment 3/saved-stories/saved_stories-1715626080000/part-00013\n",
      "/Users/camillecu/Downloads/KUL/AdvancedAnalytic/AdvancedAnalytics_Assignments/assignment 3/saved-stories/saved_stories-1715626080000/part-00014\n",
      "/Users/camillecu/Downloads/KUL/AdvancedAnalytic/AdvancedAnalytics_Assignments/assignment 3/saved-stories/saved_stories-1715626080000/part-00022\n",
      "/Users/camillecu/Downloads/KUL/AdvancedAnalytic/AdvancedAnalytics_Assignments/assignment 3/saved-stories/saved_stories-1715626080000/part-00025\n",
      "/Users/camillecu/Downloads/KUL/AdvancedAnalytic/AdvancedAnalytics_Assignments/assignment 3/saved-stories/saved_stories-1715626080000/part-00024\n",
      "/Users/camillecu/Downloads/KUL/AdvancedAnalytic/AdvancedAnalytics_Assignments/assignment 3/saved-stories/saved_stories-1715626080000/part-00023\n",
      "/Users/camillecu/Downloads/KUL/AdvancedAnalytic/AdvancedAnalytics_Assignments/assignment 3/saved-stories/saved_stories-1715626080000/part-00015\n",
      "/Users/camillecu/Downloads/KUL/AdvancedAnalytic/AdvancedAnalytics_Assignments/assignment 3/saved-stories/saved_stories-1715626080000/part-00012\n",
      "/Users/camillecu/Downloads/KUL/AdvancedAnalytic/AdvancedAnalytics_Assignments/assignment 3/saved-stories/saved_stories-1715626080000/part-00030\n",
      "/Users/camillecu/Downloads/KUL/AdvancedAnalytic/AdvancedAnalytics_Assignments/assignment 3/saved-stories/saved_stories-1715626080000/part-00008\n",
      "/Users/camillecu/Downloads/KUL/AdvancedAnalytic/AdvancedAnalytics_Assignments/assignment 3/saved-stories/saved_stories-1715626080000/part-00037\n",
      "/Users/camillecu/Downloads/KUL/AdvancedAnalytic/AdvancedAnalytics_Assignments/assignment 3/saved-stories/saved_stories-1715626080000/part-00001\n",
      "/Users/camillecu/Downloads/KUL/AdvancedAnalytic/AdvancedAnalytics_Assignments/assignment 3/saved-stories/saved_stories-1715626080000/part-00006\n",
      "/Users/camillecu/Downloads/KUL/AdvancedAnalytic/AdvancedAnalytics_Assignments/assignment 3/saved-stories/saved_stories-1715626080000/part-00007\n",
      "/Users/camillecu/Downloads/KUL/AdvancedAnalytic/AdvancedAnalytics_Assignments/assignment 3/saved-stories/saved_stories-1715626080000/part-00000\n",
      "/Users/camillecu/Downloads/KUL/AdvancedAnalytic/AdvancedAnalytics_Assignments/assignment 3/saved-stories/saved_stories-1715626080000/part-00009\n",
      "/Users/camillecu/Downloads/KUL/AdvancedAnalytic/AdvancedAnalytics_Assignments/assignment 3/saved-stories/saved_stories-1715626080000/part-00036\n",
      "/Users/camillecu/Downloads/KUL/AdvancedAnalytic/AdvancedAnalytics_Assignments/assignment 3/saved-stories/saved_stories-1715626080000/part-00031\n",
      "/Users/camillecu/Downloads/KUL/AdvancedAnalytic/AdvancedAnalytics_Assignments/assignment 3/saved-stories/saved_stories-1715626200000/part-00001\n",
      "/Users/camillecu/Downloads/KUL/AdvancedAnalytic/AdvancedAnalytics_Assignments/assignment 3/saved-stories/saved_stories-1715626200000/part-00000\n",
      "/Users/camillecu/Downloads/KUL/AdvancedAnalytic/AdvancedAnalytics_Assignments/assignment 3/saved-stories/saved_stories-1715625840000/part-00017\n",
      "/Users/camillecu/Downloads/KUL/AdvancedAnalytic/AdvancedAnalytics_Assignments/assignment 3/saved-stories/saved_stories-1715625840000/part-00028\n",
      "/Users/camillecu/Downloads/KUL/AdvancedAnalytic/AdvancedAnalytics_Assignments/assignment 3/saved-stories/saved_stories-1715625840000/part-00010\n",
      "/Users/camillecu/Downloads/KUL/AdvancedAnalytic/AdvancedAnalytics_Assignments/assignment 3/saved-stories/saved_stories-1715625840000/part-00026\n",
      "/Users/camillecu/Downloads/KUL/AdvancedAnalytic/AdvancedAnalytics_Assignments/assignment 3/saved-stories/saved_stories-1715625840000/part-00019\n",
      "/Users/camillecu/Downloads/KUL/AdvancedAnalytic/AdvancedAnalytics_Assignments/assignment 3/saved-stories/saved_stories-1715625840000/part-00021\n",
      "/Users/camillecu/Downloads/KUL/AdvancedAnalytic/AdvancedAnalytics_Assignments/assignment 3/saved-stories/saved_stories-1715625840000/part-00044\n",
      "/Users/camillecu/Downloads/KUL/AdvancedAnalytic/AdvancedAnalytics_Assignments/assignment 3/saved-stories/saved_stories-1715625840000/part-00043\n",
      "/Users/camillecu/Downloads/KUL/AdvancedAnalytic/AdvancedAnalytics_Assignments/assignment 3/saved-stories/saved_stories-1715625840000/part-00020\n",
      "/Users/camillecu/Downloads/KUL/AdvancedAnalytic/AdvancedAnalytics_Assignments/assignment 3/saved-stories/saved_stories-1715625840000/part-00027\n",
      "/Users/camillecu/Downloads/KUL/AdvancedAnalytic/AdvancedAnalytics_Assignments/assignment 3/saved-stories/saved_stories-1715625840000/part-00018\n",
      "/Users/camillecu/Downloads/KUL/AdvancedAnalytic/AdvancedAnalytics_Assignments/assignment 3/saved-stories/saved_stories-1715625840000/part-00011\n",
      "/Users/camillecu/Downloads/KUL/AdvancedAnalytic/AdvancedAnalytics_Assignments/assignment 3/saved-stories/saved_stories-1715625840000/part-00016\n",
      "/Users/camillecu/Downloads/KUL/AdvancedAnalytic/AdvancedAnalytics_Assignments/assignment 3/saved-stories/saved_stories-1715625840000/part-00029\n",
      "/Users/camillecu/Downloads/KUL/AdvancedAnalytic/AdvancedAnalytics_Assignments/assignment 3/saved-stories/saved_stories-1715625840000/part-00042\n",
      "/Users/camillecu/Downloads/KUL/AdvancedAnalytic/AdvancedAnalytics_Assignments/assignment 3/saved-stories/saved_stories-1715625840000/part-00045\n",
      "/Users/camillecu/Downloads/KUL/AdvancedAnalytic/AdvancedAnalytics_Assignments/assignment 3/saved-stories/saved_stories-1715625840000/part-00056\n",
      "/Users/camillecu/Downloads/KUL/AdvancedAnalytic/AdvancedAnalytics_Assignments/assignment 3/saved-stories/saved_stories-1715625840000/part-00051\n",
      "/Users/camillecu/Downloads/KUL/AdvancedAnalytic/AdvancedAnalytics_Assignments/assignment 3/saved-stories/saved_stories-1715625840000/part-00058\n",
      "/Users/camillecu/Downloads/KUL/AdvancedAnalytic/AdvancedAnalytics_Assignments/assignment 3/saved-stories/saved_stories-1715625840000/part-00060\n",
      "/Users/camillecu/Downloads/KUL/AdvancedAnalytic/AdvancedAnalytics_Assignments/assignment 3/saved-stories/saved_stories-1715625840000/part-00034\n",
      "/Users/camillecu/Downloads/KUL/AdvancedAnalytic/AdvancedAnalytics_Assignments/assignment 3/saved-stories/saved_stories-1715625840000/part-00033\n",
      "/Users/camillecu/Downloads/KUL/AdvancedAnalytic/AdvancedAnalytics_Assignments/assignment 3/saved-stories/saved_stories-1715625840000/part-00005\n",
      "/Users/camillecu/Downloads/KUL/AdvancedAnalytic/AdvancedAnalytics_Assignments/assignment 3/saved-stories/saved_stories-1715625840000/part-00002\n",
      "/Users/camillecu/Downloads/KUL/AdvancedAnalytic/AdvancedAnalytics_Assignments/assignment 3/saved-stories/saved_stories-1715625840000/part-00061\n",
      "/Users/camillecu/Downloads/KUL/AdvancedAnalytic/AdvancedAnalytics_Assignments/assignment 3/saved-stories/saved_stories-1715625840000/part-00066\n",
      "/Users/camillecu/Downloads/KUL/AdvancedAnalytic/AdvancedAnalytics_Assignments/assignment 3/saved-stories/saved_stories-1715625840000/part-00059\n",
      "/Users/camillecu/Downloads/KUL/AdvancedAnalytic/AdvancedAnalytics_Assignments/assignment 3/saved-stories/saved_stories-1715625840000/part-00050\n",
      "/Users/camillecu/Downloads/KUL/AdvancedAnalytic/AdvancedAnalytics_Assignments/assignment 3/saved-stories/saved_stories-1715625840000/part-00057\n",
      "/Users/camillecu/Downloads/KUL/AdvancedAnalytic/AdvancedAnalytics_Assignments/assignment 3/saved-stories/saved_stories-1715625840000/part-00003\n",
      "/Users/camillecu/Downloads/KUL/AdvancedAnalytic/AdvancedAnalytics_Assignments/assignment 3/saved-stories/saved_stories-1715625840000/part-00004\n",
      "/Users/camillecu/Downloads/KUL/AdvancedAnalytic/AdvancedAnalytics_Assignments/assignment 3/saved-stories/saved_stories-1715625840000/part-00032\n",
      "/Users/camillecu/Downloads/KUL/AdvancedAnalytic/AdvancedAnalytics_Assignments/assignment 3/saved-stories/saved_stories-1715625840000/part-00035\n",
      "/Users/camillecu/Downloads/KUL/AdvancedAnalytic/AdvancedAnalytics_Assignments/assignment 3/saved-stories/saved_stories-1715625840000/part-00049\n",
      "/Users/camillecu/Downloads/KUL/AdvancedAnalytic/AdvancedAnalytics_Assignments/assignment 3/saved-stories/saved_stories-1715625840000/part-00040\n",
      "/Users/camillecu/Downloads/KUL/AdvancedAnalytic/AdvancedAnalytics_Assignments/assignment 3/saved-stories/saved_stories-1715625840000/part-00047\n",
      "/Users/camillecu/Downloads/KUL/AdvancedAnalytic/AdvancedAnalytics_Assignments/assignment 3/saved-stories/saved_stories-1715625840000/part-00013\n",
      "/Users/camillecu/Downloads/KUL/AdvancedAnalytic/AdvancedAnalytics_Assignments/assignment 3/saved-stories/saved_stories-1715625840000/part-00014\n",
      "/Users/camillecu/Downloads/KUL/AdvancedAnalytic/AdvancedAnalytics_Assignments/assignment 3/saved-stories/saved_stories-1715625840000/part-00022\n",
      "/Users/camillecu/Downloads/KUL/AdvancedAnalytic/AdvancedAnalytics_Assignments/assignment 3/saved-stories/saved_stories-1715625840000/part-00025\n",
      "/Users/camillecu/Downloads/KUL/AdvancedAnalytic/AdvancedAnalytics_Assignments/assignment 3/saved-stories/saved_stories-1715625840000/part-00046\n",
      "/Users/camillecu/Downloads/KUL/AdvancedAnalytic/AdvancedAnalytics_Assignments/assignment 3/saved-stories/saved_stories-1715625840000/part-00041\n",
      "/Users/camillecu/Downloads/KUL/AdvancedAnalytic/AdvancedAnalytics_Assignments/assignment 3/saved-stories/saved_stories-1715625840000/part-00048\n",
      "/Users/camillecu/Downloads/KUL/AdvancedAnalytic/AdvancedAnalytics_Assignments/assignment 3/saved-stories/saved_stories-1715625840000/part-00024\n",
      "/Users/camillecu/Downloads/KUL/AdvancedAnalytic/AdvancedAnalytics_Assignments/assignment 3/saved-stories/saved_stories-1715625840000/part-00023\n",
      "/Users/camillecu/Downloads/KUL/AdvancedAnalytic/AdvancedAnalytics_Assignments/assignment 3/saved-stories/saved_stories-1715625840000/part-00015\n",
      "/Users/camillecu/Downloads/KUL/AdvancedAnalytic/AdvancedAnalytics_Assignments/assignment 3/saved-stories/saved_stories-1715625840000/part-00012\n",
      "/Users/camillecu/Downloads/KUL/AdvancedAnalytic/AdvancedAnalytics_Assignments/assignment 3/saved-stories/saved_stories-1715625840000/part-00030\n",
      "/Users/camillecu/Downloads/KUL/AdvancedAnalytic/AdvancedAnalytics_Assignments/assignment 3/saved-stories/saved_stories-1715625840000/part-00008\n",
      "/Users/camillecu/Downloads/KUL/AdvancedAnalytic/AdvancedAnalytics_Assignments/assignment 3/saved-stories/saved_stories-1715625840000/part-00037\n",
      "/Users/camillecu/Downloads/KUL/AdvancedAnalytic/AdvancedAnalytics_Assignments/assignment 3/saved-stories/saved_stories-1715625840000/part-00001\n",
      "/Users/camillecu/Downloads/KUL/AdvancedAnalytic/AdvancedAnalytics_Assignments/assignment 3/saved-stories/saved_stories-1715625840000/part-00039\n",
      "/Users/camillecu/Downloads/KUL/AdvancedAnalytic/AdvancedAnalytics_Assignments/assignment 3/saved-stories/saved_stories-1715625840000/part-00006\n",
      "/Users/camillecu/Downloads/KUL/AdvancedAnalytic/AdvancedAnalytics_Assignments/assignment 3/saved-stories/saved_stories-1715625840000/part-00052\n",
      "/Users/camillecu/Downloads/KUL/AdvancedAnalytic/AdvancedAnalytics_Assignments/assignment 3/saved-stories/saved_stories-1715625840000/part-00055\n",
      "/Users/camillecu/Downloads/KUL/AdvancedAnalytic/AdvancedAnalytics_Assignments/assignment 3/saved-stories/saved_stories-1715625840000/part-00063\n",
      "/Users/camillecu/Downloads/KUL/AdvancedAnalytic/AdvancedAnalytics_Assignments/assignment 3/saved-stories/saved_stories-1715625840000/part-00064\n",
      "/Users/camillecu/Downloads/KUL/AdvancedAnalytic/AdvancedAnalytics_Assignments/assignment 3/saved-stories/saved_stories-1715625840000/part-00038\n",
      "/Users/camillecu/Downloads/KUL/AdvancedAnalytic/AdvancedAnalytics_Assignments/assignment 3/saved-stories/saved_stories-1715625840000/part-00007\n",
      "/Users/camillecu/Downloads/KUL/AdvancedAnalytic/AdvancedAnalytics_Assignments/assignment 3/saved-stories/saved_stories-1715625840000/part-00000\n",
      "/Users/camillecu/Downloads/KUL/AdvancedAnalytic/AdvancedAnalytics_Assignments/assignment 3/saved-stories/saved_stories-1715625840000/part-00009\n",
      "/Users/camillecu/Downloads/KUL/AdvancedAnalytic/AdvancedAnalytics_Assignments/assignment 3/saved-stories/saved_stories-1715625840000/part-00036\n",
      "/Users/camillecu/Downloads/KUL/AdvancedAnalytic/AdvancedAnalytics_Assignments/assignment 3/saved-stories/saved_stories-1715625840000/part-00031\n",
      "/Users/camillecu/Downloads/KUL/AdvancedAnalytic/AdvancedAnalytics_Assignments/assignment 3/saved-stories/saved_stories-1715625840000/part-00065\n",
      "/Users/camillecu/Downloads/KUL/AdvancedAnalytic/AdvancedAnalytics_Assignments/assignment 3/saved-stories/saved_stories-1715625840000/part-00062\n",
      "/Users/camillecu/Downloads/KUL/AdvancedAnalytic/AdvancedAnalytics_Assignments/assignment 3/saved-stories/saved_stories-1715625840000/part-00054\n",
      "/Users/camillecu/Downloads/KUL/AdvancedAnalytic/AdvancedAnalytics_Assignments/assignment 3/saved-stories/saved_stories-1715625840000/part-00053\n",
      "/Users/camillecu/Downloads/KUL/AdvancedAnalytic/AdvancedAnalytics_Assignments/assignment 3/saved-stories/saved_stories-1715625360000/part-00017\n",
      "/Users/camillecu/Downloads/KUL/AdvancedAnalytic/AdvancedAnalytics_Assignments/assignment 3/saved-stories/saved_stories-1715625360000/part-00028\n",
      "/Users/camillecu/Downloads/KUL/AdvancedAnalytic/AdvancedAnalytics_Assignments/assignment 3/saved-stories/saved_stories-1715625360000/part-00010\n",
      "/Users/camillecu/Downloads/KUL/AdvancedAnalytic/AdvancedAnalytics_Assignments/assignment 3/saved-stories/saved_stories-1715625360000/part-00026\n",
      "/Users/camillecu/Downloads/KUL/AdvancedAnalytic/AdvancedAnalytics_Assignments/assignment 3/saved-stories/saved_stories-1715625360000/part-00019\n",
      "/Users/camillecu/Downloads/KUL/AdvancedAnalytic/AdvancedAnalytics_Assignments/assignment 3/saved-stories/saved_stories-1715625360000/part-00021\n",
      "/Users/camillecu/Downloads/KUL/AdvancedAnalytic/AdvancedAnalytics_Assignments/assignment 3/saved-stories/saved_stories-1715625360000/part-00044\n",
      "/Users/camillecu/Downloads/KUL/AdvancedAnalytic/AdvancedAnalytics_Assignments/assignment 3/saved-stories/saved_stories-1715625360000/part-00043\n",
      "/Users/camillecu/Downloads/KUL/AdvancedAnalytic/AdvancedAnalytics_Assignments/assignment 3/saved-stories/saved_stories-1715625360000/part-00020\n",
      "/Users/camillecu/Downloads/KUL/AdvancedAnalytic/AdvancedAnalytics_Assignments/assignment 3/saved-stories/saved_stories-1715625360000/part-00027\n",
      "/Users/camillecu/Downloads/KUL/AdvancedAnalytic/AdvancedAnalytics_Assignments/assignment 3/saved-stories/saved_stories-1715625360000/part-00018\n",
      "/Users/camillecu/Downloads/KUL/AdvancedAnalytic/AdvancedAnalytics_Assignments/assignment 3/saved-stories/saved_stories-1715625360000/part-00011\n",
      "/Users/camillecu/Downloads/KUL/AdvancedAnalytic/AdvancedAnalytics_Assignments/assignment 3/saved-stories/saved_stories-1715625360000/part-00016\n",
      "/Users/camillecu/Downloads/KUL/AdvancedAnalytic/AdvancedAnalytics_Assignments/assignment 3/saved-stories/saved_stories-1715625360000/part-00029\n",
      "/Users/camillecu/Downloads/KUL/AdvancedAnalytic/AdvancedAnalytics_Assignments/assignment 3/saved-stories/saved_stories-1715625360000/part-00042\n",
      "/Users/camillecu/Downloads/KUL/AdvancedAnalytic/AdvancedAnalytics_Assignments/assignment 3/saved-stories/saved_stories-1715625360000/part-00045\n",
      "/Users/camillecu/Downloads/KUL/AdvancedAnalytic/AdvancedAnalytics_Assignments/assignment 3/saved-stories/saved_stories-1715625360000/part-00056\n",
      "/Users/camillecu/Downloads/KUL/AdvancedAnalytic/AdvancedAnalytics_Assignments/assignment 3/saved-stories/saved_stories-1715625360000/part-00051\n",
      "/Users/camillecu/Downloads/KUL/AdvancedAnalytic/AdvancedAnalytics_Assignments/assignment 3/saved-stories/saved_stories-1715625360000/part-00058\n",
      "/Users/camillecu/Downloads/KUL/AdvancedAnalytic/AdvancedAnalytics_Assignments/assignment 3/saved-stories/saved_stories-1715625360000/part-00060\n",
      "/Users/camillecu/Downloads/KUL/AdvancedAnalytic/AdvancedAnalytics_Assignments/assignment 3/saved-stories/saved_stories-1715625360000/part-00034\n",
      "/Users/camillecu/Downloads/KUL/AdvancedAnalytic/AdvancedAnalytics_Assignments/assignment 3/saved-stories/saved_stories-1715625360000/part-00033\n",
      "/Users/camillecu/Downloads/KUL/AdvancedAnalytic/AdvancedAnalytics_Assignments/assignment 3/saved-stories/saved_stories-1715625360000/part-00005\n",
      "/Users/camillecu/Downloads/KUL/AdvancedAnalytic/AdvancedAnalytics_Assignments/assignment 3/saved-stories/saved_stories-1715625360000/part-00002\n",
      "/Users/camillecu/Downloads/KUL/AdvancedAnalytic/AdvancedAnalytics_Assignments/assignment 3/saved-stories/saved_stories-1715625360000/part-00061\n",
      "/Users/camillecu/Downloads/KUL/AdvancedAnalytic/AdvancedAnalytics_Assignments/assignment 3/saved-stories/saved_stories-1715625360000/part-00059\n",
      "/Users/camillecu/Downloads/KUL/AdvancedAnalytic/AdvancedAnalytics_Assignments/assignment 3/saved-stories/saved_stories-1715625360000/part-00050\n",
      "/Users/camillecu/Downloads/KUL/AdvancedAnalytic/AdvancedAnalytics_Assignments/assignment 3/saved-stories/saved_stories-1715625360000/part-00057\n",
      "/Users/camillecu/Downloads/KUL/AdvancedAnalytic/AdvancedAnalytics_Assignments/assignment 3/saved-stories/saved_stories-1715625360000/part-00003\n",
      "/Users/camillecu/Downloads/KUL/AdvancedAnalytic/AdvancedAnalytics_Assignments/assignment 3/saved-stories/saved_stories-1715625360000/part-00004\n",
      "/Users/camillecu/Downloads/KUL/AdvancedAnalytic/AdvancedAnalytics_Assignments/assignment 3/saved-stories/saved_stories-1715625360000/part-00032\n",
      "/Users/camillecu/Downloads/KUL/AdvancedAnalytic/AdvancedAnalytics_Assignments/assignment 3/saved-stories/saved_stories-1715625360000/part-00035\n",
      "/Users/camillecu/Downloads/KUL/AdvancedAnalytic/AdvancedAnalytics_Assignments/assignment 3/saved-stories/saved_stories-1715625360000/part-00049\n",
      "/Users/camillecu/Downloads/KUL/AdvancedAnalytic/AdvancedAnalytics_Assignments/assignment 3/saved-stories/saved_stories-1715625360000/part-00040\n",
      "/Users/camillecu/Downloads/KUL/AdvancedAnalytic/AdvancedAnalytics_Assignments/assignment 3/saved-stories/saved_stories-1715625360000/part-00047\n",
      "/Users/camillecu/Downloads/KUL/AdvancedAnalytic/AdvancedAnalytics_Assignments/assignment 3/saved-stories/saved_stories-1715625360000/part-00013\n",
      "/Users/camillecu/Downloads/KUL/AdvancedAnalytic/AdvancedAnalytics_Assignments/assignment 3/saved-stories/saved_stories-1715625360000/part-00014\n",
      "/Users/camillecu/Downloads/KUL/AdvancedAnalytic/AdvancedAnalytics_Assignments/assignment 3/saved-stories/saved_stories-1715625360000/part-00022\n",
      "/Users/camillecu/Downloads/KUL/AdvancedAnalytic/AdvancedAnalytics_Assignments/assignment 3/saved-stories/saved_stories-1715625360000/part-00025\n",
      "/Users/camillecu/Downloads/KUL/AdvancedAnalytic/AdvancedAnalytics_Assignments/assignment 3/saved-stories/saved_stories-1715625360000/part-00046\n",
      "/Users/camillecu/Downloads/KUL/AdvancedAnalytic/AdvancedAnalytics_Assignments/assignment 3/saved-stories/saved_stories-1715625360000/part-00041\n",
      "/Users/camillecu/Downloads/KUL/AdvancedAnalytic/AdvancedAnalytics_Assignments/assignment 3/saved-stories/saved_stories-1715625360000/part-00048\n",
      "/Users/camillecu/Downloads/KUL/AdvancedAnalytic/AdvancedAnalytics_Assignments/assignment 3/saved-stories/saved_stories-1715625360000/part-00024\n",
      "/Users/camillecu/Downloads/KUL/AdvancedAnalytic/AdvancedAnalytics_Assignments/assignment 3/saved-stories/saved_stories-1715625360000/part-00023\n",
      "/Users/camillecu/Downloads/KUL/AdvancedAnalytic/AdvancedAnalytics_Assignments/assignment 3/saved-stories/saved_stories-1715625360000/part-00015\n",
      "/Users/camillecu/Downloads/KUL/AdvancedAnalytic/AdvancedAnalytics_Assignments/assignment 3/saved-stories/saved_stories-1715625360000/part-00012\n",
      "/Users/camillecu/Downloads/KUL/AdvancedAnalytic/AdvancedAnalytics_Assignments/assignment 3/saved-stories/saved_stories-1715625360000/part-00030\n",
      "/Users/camillecu/Downloads/KUL/AdvancedAnalytic/AdvancedAnalytics_Assignments/assignment 3/saved-stories/saved_stories-1715625360000/part-00008\n",
      "/Users/camillecu/Downloads/KUL/AdvancedAnalytic/AdvancedAnalytics_Assignments/assignment 3/saved-stories/saved_stories-1715625360000/part-00037\n",
      "/Users/camillecu/Downloads/KUL/AdvancedAnalytic/AdvancedAnalytics_Assignments/assignment 3/saved-stories/saved_stories-1715625360000/part-00001\n",
      "/Users/camillecu/Downloads/KUL/AdvancedAnalytic/AdvancedAnalytics_Assignments/assignment 3/saved-stories/saved_stories-1715625360000/part-00039\n",
      "/Users/camillecu/Downloads/KUL/AdvancedAnalytic/AdvancedAnalytics_Assignments/assignment 3/saved-stories/saved_stories-1715625360000/part-00006\n",
      "/Users/camillecu/Downloads/KUL/AdvancedAnalytic/AdvancedAnalytics_Assignments/assignment 3/saved-stories/saved_stories-1715625360000/part-00052\n",
      "/Users/camillecu/Downloads/KUL/AdvancedAnalytic/AdvancedAnalytics_Assignments/assignment 3/saved-stories/saved_stories-1715625360000/part-00055\n",
      "/Users/camillecu/Downloads/KUL/AdvancedAnalytic/AdvancedAnalytics_Assignments/assignment 3/saved-stories/saved_stories-1715625360000/part-00063\n",
      "/Users/camillecu/Downloads/KUL/AdvancedAnalytic/AdvancedAnalytics_Assignments/assignment 3/saved-stories/saved_stories-1715625360000/part-00064\n",
      "/Users/camillecu/Downloads/KUL/AdvancedAnalytic/AdvancedAnalytics_Assignments/assignment 3/saved-stories/saved_stories-1715625360000/part-00038\n",
      "/Users/camillecu/Downloads/KUL/AdvancedAnalytic/AdvancedAnalytics_Assignments/assignment 3/saved-stories/saved_stories-1715625360000/part-00007\n",
      "/Users/camillecu/Downloads/KUL/AdvancedAnalytic/AdvancedAnalytics_Assignments/assignment 3/saved-stories/saved_stories-1715625360000/part-00000\n",
      "/Users/camillecu/Downloads/KUL/AdvancedAnalytic/AdvancedAnalytics_Assignments/assignment 3/saved-stories/saved_stories-1715625360000/part-00009\n",
      "/Users/camillecu/Downloads/KUL/AdvancedAnalytic/AdvancedAnalytics_Assignments/assignment 3/saved-stories/saved_stories-1715625360000/part-00036\n",
      "/Users/camillecu/Downloads/KUL/AdvancedAnalytic/AdvancedAnalytics_Assignments/assignment 3/saved-stories/saved_stories-1715625360000/part-00031\n",
      "/Users/camillecu/Downloads/KUL/AdvancedAnalytic/AdvancedAnalytics_Assignments/assignment 3/saved-stories/saved_stories-1715625360000/part-00062\n",
      "/Users/camillecu/Downloads/KUL/AdvancedAnalytic/AdvancedAnalytics_Assignments/assignment 3/saved-stories/saved_stories-1715625360000/part-00054\n",
      "/Users/camillecu/Downloads/KUL/AdvancedAnalytic/AdvancedAnalytics_Assignments/assignment 3/saved-stories/saved_stories-1715625360000/part-00053\n",
      "/Users/camillecu/Downloads/KUL/AdvancedAnalytic/AdvancedAnalytics_Assignments/assignment 3/saved-stories/saved_stories-1715625240000/part-00017\n",
      "/Users/camillecu/Downloads/KUL/AdvancedAnalytic/AdvancedAnalytics_Assignments/assignment 3/saved-stories/saved_stories-1715625240000/part-00028\n",
      "/Users/camillecu/Downloads/KUL/AdvancedAnalytic/AdvancedAnalytics_Assignments/assignment 3/saved-stories/saved_stories-1715625240000/part-00010\n",
      "/Users/camillecu/Downloads/KUL/AdvancedAnalytic/AdvancedAnalytics_Assignments/assignment 3/saved-stories/saved_stories-1715625240000/part-00026\n",
      "/Users/camillecu/Downloads/KUL/AdvancedAnalytic/AdvancedAnalytics_Assignments/assignment 3/saved-stories/saved_stories-1715625240000/part-00019\n",
      "/Users/camillecu/Downloads/KUL/AdvancedAnalytic/AdvancedAnalytics_Assignments/assignment 3/saved-stories/saved_stories-1715625240000/part-00021\n",
      "/Users/camillecu/Downloads/KUL/AdvancedAnalytic/AdvancedAnalytics_Assignments/assignment 3/saved-stories/saved_stories-1715625240000/part-00044\n",
      "/Users/camillecu/Downloads/KUL/AdvancedAnalytic/AdvancedAnalytics_Assignments/assignment 3/saved-stories/saved_stories-1715625240000/part-00043\n",
      "/Users/camillecu/Downloads/KUL/AdvancedAnalytic/AdvancedAnalytics_Assignments/assignment 3/saved-stories/saved_stories-1715625240000/part-00020\n",
      "/Users/camillecu/Downloads/KUL/AdvancedAnalytic/AdvancedAnalytics_Assignments/assignment 3/saved-stories/saved_stories-1715625240000/part-00027\n",
      "/Users/camillecu/Downloads/KUL/AdvancedAnalytic/AdvancedAnalytics_Assignments/assignment 3/saved-stories/saved_stories-1715625240000/part-00018\n",
      "/Users/camillecu/Downloads/KUL/AdvancedAnalytic/AdvancedAnalytics_Assignments/assignment 3/saved-stories/saved_stories-1715625240000/part-00011\n",
      "/Users/camillecu/Downloads/KUL/AdvancedAnalytic/AdvancedAnalytics_Assignments/assignment 3/saved-stories/saved_stories-1715625240000/part-00016\n",
      "/Users/camillecu/Downloads/KUL/AdvancedAnalytic/AdvancedAnalytics_Assignments/assignment 3/saved-stories/saved_stories-1715625240000/part-00029\n",
      "/Users/camillecu/Downloads/KUL/AdvancedAnalytic/AdvancedAnalytics_Assignments/assignment 3/saved-stories/saved_stories-1715625240000/part-00042\n",
      "/Users/camillecu/Downloads/KUL/AdvancedAnalytic/AdvancedAnalytics_Assignments/assignment 3/saved-stories/saved_stories-1715625240000/part-00045\n",
      "/Users/camillecu/Downloads/KUL/AdvancedAnalytic/AdvancedAnalytics_Assignments/assignment 3/saved-stories/saved_stories-1715625240000/part-00034\n",
      "/Users/camillecu/Downloads/KUL/AdvancedAnalytic/AdvancedAnalytics_Assignments/assignment 3/saved-stories/saved_stories-1715625240000/part-00033\n",
      "/Users/camillecu/Downloads/KUL/AdvancedAnalytic/AdvancedAnalytics_Assignments/assignment 3/saved-stories/saved_stories-1715625240000/part-00005\n",
      "/Users/camillecu/Downloads/KUL/AdvancedAnalytic/AdvancedAnalytics_Assignments/assignment 3/saved-stories/saved_stories-1715625240000/part-00002\n",
      "/Users/camillecu/Downloads/KUL/AdvancedAnalytic/AdvancedAnalytics_Assignments/assignment 3/saved-stories/saved_stories-1715625240000/part-00003\n",
      "/Users/camillecu/Downloads/KUL/AdvancedAnalytic/AdvancedAnalytics_Assignments/assignment 3/saved-stories/saved_stories-1715625240000/part-00004\n",
      "/Users/camillecu/Downloads/KUL/AdvancedAnalytic/AdvancedAnalytics_Assignments/assignment 3/saved-stories/saved_stories-1715625240000/part-00032\n",
      "/Users/camillecu/Downloads/KUL/AdvancedAnalytic/AdvancedAnalytics_Assignments/assignment 3/saved-stories/saved_stories-1715625240000/part-00035\n",
      "/Users/camillecu/Downloads/KUL/AdvancedAnalytic/AdvancedAnalytics_Assignments/assignment 3/saved-stories/saved_stories-1715625240000/part-00040\n",
      "/Users/camillecu/Downloads/KUL/AdvancedAnalytic/AdvancedAnalytics_Assignments/assignment 3/saved-stories/saved_stories-1715625240000/part-00047\n",
      "/Users/camillecu/Downloads/KUL/AdvancedAnalytic/AdvancedAnalytics_Assignments/assignment 3/saved-stories/saved_stories-1715625240000/part-00013\n",
      "/Users/camillecu/Downloads/KUL/AdvancedAnalytic/AdvancedAnalytics_Assignments/assignment 3/saved-stories/saved_stories-1715625240000/part-00014\n",
      "/Users/camillecu/Downloads/KUL/AdvancedAnalytic/AdvancedAnalytics_Assignments/assignment 3/saved-stories/saved_stories-1715625240000/part-00022\n",
      "/Users/camillecu/Downloads/KUL/AdvancedAnalytic/AdvancedAnalytics_Assignments/assignment 3/saved-stories/saved_stories-1715625240000/part-00025\n",
      "/Users/camillecu/Downloads/KUL/AdvancedAnalytic/AdvancedAnalytics_Assignments/assignment 3/saved-stories/saved_stories-1715625240000/part-00046\n",
      "/Users/camillecu/Downloads/KUL/AdvancedAnalytic/AdvancedAnalytics_Assignments/assignment 3/saved-stories/saved_stories-1715625240000/part-00041\n",
      "/Users/camillecu/Downloads/KUL/AdvancedAnalytic/AdvancedAnalytics_Assignments/assignment 3/saved-stories/saved_stories-1715625240000/part-00048\n",
      "/Users/camillecu/Downloads/KUL/AdvancedAnalytic/AdvancedAnalytics_Assignments/assignment 3/saved-stories/saved_stories-1715625240000/part-00024\n",
      "/Users/camillecu/Downloads/KUL/AdvancedAnalytic/AdvancedAnalytics_Assignments/assignment 3/saved-stories/saved_stories-1715625240000/part-00023\n",
      "/Users/camillecu/Downloads/KUL/AdvancedAnalytic/AdvancedAnalytics_Assignments/assignment 3/saved-stories/saved_stories-1715625240000/part-00015\n",
      "/Users/camillecu/Downloads/KUL/AdvancedAnalytic/AdvancedAnalytics_Assignments/assignment 3/saved-stories/saved_stories-1715625240000/part-00012\n",
      "/Users/camillecu/Downloads/KUL/AdvancedAnalytic/AdvancedAnalytics_Assignments/assignment 3/saved-stories/saved_stories-1715625240000/part-00030\n",
      "/Users/camillecu/Downloads/KUL/AdvancedAnalytic/AdvancedAnalytics_Assignments/assignment 3/saved-stories/saved_stories-1715625240000/part-00008\n",
      "/Users/camillecu/Downloads/KUL/AdvancedAnalytic/AdvancedAnalytics_Assignments/assignment 3/saved-stories/saved_stories-1715625240000/part-00037\n",
      "/Users/camillecu/Downloads/KUL/AdvancedAnalytic/AdvancedAnalytics_Assignments/assignment 3/saved-stories/saved_stories-1715625240000/part-00001\n",
      "/Users/camillecu/Downloads/KUL/AdvancedAnalytic/AdvancedAnalytics_Assignments/assignment 3/saved-stories/saved_stories-1715625240000/part-00039\n",
      "/Users/camillecu/Downloads/KUL/AdvancedAnalytic/AdvancedAnalytics_Assignments/assignment 3/saved-stories/saved_stories-1715625240000/part-00006\n",
      "/Users/camillecu/Downloads/KUL/AdvancedAnalytic/AdvancedAnalytics_Assignments/assignment 3/saved-stories/saved_stories-1715625240000/part-00038\n",
      "/Users/camillecu/Downloads/KUL/AdvancedAnalytic/AdvancedAnalytics_Assignments/assignment 3/saved-stories/saved_stories-1715625240000/part-00007\n",
      "/Users/camillecu/Downloads/KUL/AdvancedAnalytic/AdvancedAnalytics_Assignments/assignment 3/saved-stories/saved_stories-1715625240000/part-00000\n",
      "/Users/camillecu/Downloads/KUL/AdvancedAnalytic/AdvancedAnalytics_Assignments/assignment 3/saved-stories/saved_stories-1715625240000/part-00009\n",
      "/Users/camillecu/Downloads/KUL/AdvancedAnalytic/AdvancedAnalytics_Assignments/assignment 3/saved-stories/saved_stories-1715625240000/part-00036\n",
      "/Users/camillecu/Downloads/KUL/AdvancedAnalytic/AdvancedAnalytics_Assignments/assignment 3/saved-stories/saved_stories-1715625240000/part-00031\n",
      "/Users/camillecu/Downloads/KUL/AdvancedAnalytic/AdvancedAnalytics_Assignments/assignment 3/saved-stories/saved_stories-1715625480000/part-00017\n",
      "/Users/camillecu/Downloads/KUL/AdvancedAnalytic/AdvancedAnalytics_Assignments/assignment 3/saved-stories/saved_stories-1715625480000/part-00028\n",
      "/Users/camillecu/Downloads/KUL/AdvancedAnalytic/AdvancedAnalytics_Assignments/assignment 3/saved-stories/saved_stories-1715625480000/part-00010\n",
      "/Users/camillecu/Downloads/KUL/AdvancedAnalytic/AdvancedAnalytics_Assignments/assignment 3/saved-stories/saved_stories-1715625480000/part-00026\n",
      "/Users/camillecu/Downloads/KUL/AdvancedAnalytic/AdvancedAnalytics_Assignments/assignment 3/saved-stories/saved_stories-1715625480000/part-00019\n",
      "/Users/camillecu/Downloads/KUL/AdvancedAnalytic/AdvancedAnalytics_Assignments/assignment 3/saved-stories/saved_stories-1715625480000/part-00021\n",
      "/Users/camillecu/Downloads/KUL/AdvancedAnalytic/AdvancedAnalytics_Assignments/assignment 3/saved-stories/saved_stories-1715625480000/part-00072\n",
      "/Users/camillecu/Downloads/KUL/AdvancedAnalytic/AdvancedAnalytics_Assignments/assignment 3/saved-stories/saved_stories-1715625480000/part-00044\n",
      "/Users/camillecu/Downloads/KUL/AdvancedAnalytic/AdvancedAnalytics_Assignments/assignment 3/saved-stories/saved_stories-1715625480000/part-00043\n",
      "/Users/camillecu/Downloads/KUL/AdvancedAnalytic/AdvancedAnalytics_Assignments/assignment 3/saved-stories/saved_stories-1715625480000/part-00020\n",
      "/Users/camillecu/Downloads/KUL/AdvancedAnalytic/AdvancedAnalytics_Assignments/assignment 3/saved-stories/saved_stories-1715625480000/part-00027\n",
      "/Users/camillecu/Downloads/KUL/AdvancedAnalytic/AdvancedAnalytics_Assignments/assignment 3/saved-stories/saved_stories-1715625480000/part-00018\n",
      "/Users/camillecu/Downloads/KUL/AdvancedAnalytic/AdvancedAnalytics_Assignments/assignment 3/saved-stories/saved_stories-1715625480000/part-00011\n",
      "/Users/camillecu/Downloads/KUL/AdvancedAnalytic/AdvancedAnalytics_Assignments/assignment 3/saved-stories/saved_stories-1715625480000/part-00016\n",
      "/Users/camillecu/Downloads/KUL/AdvancedAnalytic/AdvancedAnalytics_Assignments/assignment 3/saved-stories/saved_stories-1715625480000/part-00029\n",
      "/Users/camillecu/Downloads/KUL/AdvancedAnalytic/AdvancedAnalytics_Assignments/assignment 3/saved-stories/saved_stories-1715625480000/part-00042\n",
      "/Users/camillecu/Downloads/KUL/AdvancedAnalytic/AdvancedAnalytics_Assignments/assignment 3/saved-stories/saved_stories-1715625480000/part-00045\n",
      "/Users/camillecu/Downloads/KUL/AdvancedAnalytic/AdvancedAnalytics_Assignments/assignment 3/saved-stories/saved_stories-1715625480000/part-00056\n",
      "/Users/camillecu/Downloads/KUL/AdvancedAnalytic/AdvancedAnalytics_Assignments/assignment 3/saved-stories/saved_stories-1715625480000/part-00069\n",
      "/Users/camillecu/Downloads/KUL/AdvancedAnalytic/AdvancedAnalytics_Assignments/assignment 3/saved-stories/saved_stories-1715625480000/part-00051\n",
      "/Users/camillecu/Downloads/KUL/AdvancedAnalytic/AdvancedAnalytics_Assignments/assignment 3/saved-stories/saved_stories-1715625480000/part-00067\n",
      "/Users/camillecu/Downloads/KUL/AdvancedAnalytic/AdvancedAnalytics_Assignments/assignment 3/saved-stories/saved_stories-1715625480000/part-00058\n",
      "/Users/camillecu/Downloads/KUL/AdvancedAnalytic/AdvancedAnalytics_Assignments/assignment 3/saved-stories/saved_stories-1715625480000/part-00060\n",
      "/Users/camillecu/Downloads/KUL/AdvancedAnalytic/AdvancedAnalytics_Assignments/assignment 3/saved-stories/saved_stories-1715625480000/part-00034\n",
      "/Users/camillecu/Downloads/KUL/AdvancedAnalytic/AdvancedAnalytics_Assignments/assignment 3/saved-stories/saved_stories-1715625480000/part-00033\n",
      "/Users/camillecu/Downloads/KUL/AdvancedAnalytic/AdvancedAnalytics_Assignments/assignment 3/saved-stories/saved_stories-1715625480000/part-00005\n",
      "/Users/camillecu/Downloads/KUL/AdvancedAnalytic/AdvancedAnalytics_Assignments/assignment 3/saved-stories/saved_stories-1715625480000/part-00002\n",
      "/Users/camillecu/Downloads/KUL/AdvancedAnalytic/AdvancedAnalytics_Assignments/assignment 3/saved-stories/saved_stories-1715625480000/part-00061\n",
      "/Users/camillecu/Downloads/KUL/AdvancedAnalytic/AdvancedAnalytics_Assignments/assignment 3/saved-stories/saved_stories-1715625480000/part-00066\n",
      "/Users/camillecu/Downloads/KUL/AdvancedAnalytic/AdvancedAnalytics_Assignments/assignment 3/saved-stories/saved_stories-1715625480000/part-00059\n",
      "/Users/camillecu/Downloads/KUL/AdvancedAnalytic/AdvancedAnalytics_Assignments/assignment 3/saved-stories/saved_stories-1715625480000/part-00050\n",
      "/Users/camillecu/Downloads/KUL/AdvancedAnalytic/AdvancedAnalytics_Assignments/assignment 3/saved-stories/saved_stories-1715625480000/part-00057\n",
      "/Users/camillecu/Downloads/KUL/AdvancedAnalytic/AdvancedAnalytics_Assignments/assignment 3/saved-stories/saved_stories-1715625480000/part-00068\n",
      "/Users/camillecu/Downloads/KUL/AdvancedAnalytic/AdvancedAnalytics_Assignments/assignment 3/saved-stories/saved_stories-1715625480000/part-00003\n",
      "/Users/camillecu/Downloads/KUL/AdvancedAnalytic/AdvancedAnalytics_Assignments/assignment 3/saved-stories/saved_stories-1715625480000/part-00004\n",
      "/Users/camillecu/Downloads/KUL/AdvancedAnalytic/AdvancedAnalytics_Assignments/assignment 3/saved-stories/saved_stories-1715625480000/part-00032\n",
      "/Users/camillecu/Downloads/KUL/AdvancedAnalytic/AdvancedAnalytics_Assignments/assignment 3/saved-stories/saved_stories-1715625480000/part-00035\n",
      "/Users/camillecu/Downloads/KUL/AdvancedAnalytic/AdvancedAnalytics_Assignments/assignment 3/saved-stories/saved_stories-1715625480000/part-00071\n",
      "/Users/camillecu/Downloads/KUL/AdvancedAnalytic/AdvancedAnalytics_Assignments/assignment 3/saved-stories/saved_stories-1715625480000/part-00049\n",
      "/Users/camillecu/Downloads/KUL/AdvancedAnalytic/AdvancedAnalytics_Assignments/assignment 3/saved-stories/saved_stories-1715625480000/part-00040\n",
      "/Users/camillecu/Downloads/KUL/AdvancedAnalytic/AdvancedAnalytics_Assignments/assignment 3/saved-stories/saved_stories-1715625480000/part-00047\n",
      "/Users/camillecu/Downloads/KUL/AdvancedAnalytic/AdvancedAnalytics_Assignments/assignment 3/saved-stories/saved_stories-1715625480000/part-00013\n",
      "/Users/camillecu/Downloads/KUL/AdvancedAnalytic/AdvancedAnalytics_Assignments/assignment 3/saved-stories/saved_stories-1715625480000/part-00014\n",
      "/Users/camillecu/Downloads/KUL/AdvancedAnalytic/AdvancedAnalytics_Assignments/assignment 3/saved-stories/saved_stories-1715625480000/part-00022\n",
      "/Users/camillecu/Downloads/KUL/AdvancedAnalytic/AdvancedAnalytics_Assignments/assignment 3/saved-stories/saved_stories-1715625480000/part-00025\n",
      "/Users/camillecu/Downloads/KUL/AdvancedAnalytic/AdvancedAnalytics_Assignments/assignment 3/saved-stories/saved_stories-1715625480000/part-00046\n",
      "/Users/camillecu/Downloads/KUL/AdvancedAnalytic/AdvancedAnalytics_Assignments/assignment 3/saved-stories/saved_stories-1715625480000/part-00041\n",
      "/Users/camillecu/Downloads/KUL/AdvancedAnalytic/AdvancedAnalytics_Assignments/assignment 3/saved-stories/saved_stories-1715625480000/part-00048\n",
      "/Users/camillecu/Downloads/KUL/AdvancedAnalytic/AdvancedAnalytics_Assignments/assignment 3/saved-stories/saved_stories-1715625480000/part-00070\n",
      "/Users/camillecu/Downloads/KUL/AdvancedAnalytic/AdvancedAnalytics_Assignments/assignment 3/saved-stories/saved_stories-1715625480000/part-00024\n",
      "/Users/camillecu/Downloads/KUL/AdvancedAnalytic/AdvancedAnalytics_Assignments/assignment 3/saved-stories/saved_stories-1715625480000/part-00023\n",
      "/Users/camillecu/Downloads/KUL/AdvancedAnalytic/AdvancedAnalytics_Assignments/assignment 3/saved-stories/saved_stories-1715625480000/part-00015\n",
      "/Users/camillecu/Downloads/KUL/AdvancedAnalytic/AdvancedAnalytics_Assignments/assignment 3/saved-stories/saved_stories-1715625480000/part-00012\n",
      "/Users/camillecu/Downloads/KUL/AdvancedAnalytic/AdvancedAnalytics_Assignments/assignment 3/saved-stories/saved_stories-1715625480000/part-00030\n",
      "/Users/camillecu/Downloads/KUL/AdvancedAnalytic/AdvancedAnalytics_Assignments/assignment 3/saved-stories/saved_stories-1715625480000/part-00008\n",
      "/Users/camillecu/Downloads/KUL/AdvancedAnalytic/AdvancedAnalytics_Assignments/assignment 3/saved-stories/saved_stories-1715625480000/part-00037\n",
      "/Users/camillecu/Downloads/KUL/AdvancedAnalytic/AdvancedAnalytics_Assignments/assignment 3/saved-stories/saved_stories-1715625480000/part-00001\n",
      "/Users/camillecu/Downloads/KUL/AdvancedAnalytic/AdvancedAnalytics_Assignments/assignment 3/saved-stories/saved_stories-1715625480000/part-00039\n",
      "/Users/camillecu/Downloads/KUL/AdvancedAnalytic/AdvancedAnalytics_Assignments/assignment 3/saved-stories/saved_stories-1715625480000/part-00006\n",
      "/Users/camillecu/Downloads/KUL/AdvancedAnalytic/AdvancedAnalytics_Assignments/assignment 3/saved-stories/saved_stories-1715625480000/part-00052\n",
      "/Users/camillecu/Downloads/KUL/AdvancedAnalytic/AdvancedAnalytics_Assignments/assignment 3/saved-stories/saved_stories-1715625480000/part-00055\n",
      "/Users/camillecu/Downloads/KUL/AdvancedAnalytic/AdvancedAnalytics_Assignments/assignment 3/saved-stories/saved_stories-1715625480000/part-00063\n",
      "/Users/camillecu/Downloads/KUL/AdvancedAnalytic/AdvancedAnalytics_Assignments/assignment 3/saved-stories/saved_stories-1715625480000/part-00064\n",
      "/Users/camillecu/Downloads/KUL/AdvancedAnalytic/AdvancedAnalytics_Assignments/assignment 3/saved-stories/saved_stories-1715625480000/part-00038\n",
      "/Users/camillecu/Downloads/KUL/AdvancedAnalytic/AdvancedAnalytics_Assignments/assignment 3/saved-stories/saved_stories-1715625480000/part-00007\n",
      "/Users/camillecu/Downloads/KUL/AdvancedAnalytic/AdvancedAnalytics_Assignments/assignment 3/saved-stories/saved_stories-1715625480000/part-00000\n",
      "/Users/camillecu/Downloads/KUL/AdvancedAnalytic/AdvancedAnalytics_Assignments/assignment 3/saved-stories/saved_stories-1715625480000/part-00009\n",
      "/Users/camillecu/Downloads/KUL/AdvancedAnalytic/AdvancedAnalytics_Assignments/assignment 3/saved-stories/saved_stories-1715625480000/part-00036\n",
      "/Users/camillecu/Downloads/KUL/AdvancedAnalytic/AdvancedAnalytics_Assignments/assignment 3/saved-stories/saved_stories-1715625480000/part-00031\n",
      "/Users/camillecu/Downloads/KUL/AdvancedAnalytic/AdvancedAnalytics_Assignments/assignment 3/saved-stories/saved_stories-1715625480000/part-00065\n",
      "/Users/camillecu/Downloads/KUL/AdvancedAnalytic/AdvancedAnalytics_Assignments/assignment 3/saved-stories/saved_stories-1715625480000/part-00062\n",
      "/Users/camillecu/Downloads/KUL/AdvancedAnalytic/AdvancedAnalytics_Assignments/assignment 3/saved-stories/saved_stories-1715625480000/part-00054\n",
      "/Users/camillecu/Downloads/KUL/AdvancedAnalytic/AdvancedAnalytics_Assignments/assignment 3/saved-stories/saved_stories-1715625480000/part-00053\n",
      "/Users/camillecu/Downloads/KUL/AdvancedAnalytic/AdvancedAnalytics_Assignments/assignment 3/saved-stories/saved_stories-1715625600000/part-00017\n",
      "/Users/camillecu/Downloads/KUL/AdvancedAnalytic/AdvancedAnalytics_Assignments/assignment 3/saved-stories/saved_stories-1715625600000/part-00028\n",
      "/Users/camillecu/Downloads/KUL/AdvancedAnalytic/AdvancedAnalytics_Assignments/assignment 3/saved-stories/saved_stories-1715625600000/part-00010\n",
      "/Users/camillecu/Downloads/KUL/AdvancedAnalytic/AdvancedAnalytics_Assignments/assignment 3/saved-stories/saved_stories-1715625600000/part-00026\n",
      "/Users/camillecu/Downloads/KUL/AdvancedAnalytic/AdvancedAnalytics_Assignments/assignment 3/saved-stories/saved_stories-1715625600000/part-00019\n",
      "/Users/camillecu/Downloads/KUL/AdvancedAnalytic/AdvancedAnalytics_Assignments/assignment 3/saved-stories/saved_stories-1715625600000/part-00021\n",
      "/Users/camillecu/Downloads/KUL/AdvancedAnalytic/AdvancedAnalytics_Assignments/assignment 3/saved-stories/saved_stories-1715625600000/part-00044\n",
      "/Users/camillecu/Downloads/KUL/AdvancedAnalytic/AdvancedAnalytics_Assignments/assignment 3/saved-stories/saved_stories-1715625600000/part-00043\n",
      "/Users/camillecu/Downloads/KUL/AdvancedAnalytic/AdvancedAnalytics_Assignments/assignment 3/saved-stories/saved_stories-1715625600000/part-00020\n",
      "/Users/camillecu/Downloads/KUL/AdvancedAnalytic/AdvancedAnalytics_Assignments/assignment 3/saved-stories/saved_stories-1715625600000/part-00027\n",
      "/Users/camillecu/Downloads/KUL/AdvancedAnalytic/AdvancedAnalytics_Assignments/assignment 3/saved-stories/saved_stories-1715625600000/part-00018\n",
      "/Users/camillecu/Downloads/KUL/AdvancedAnalytic/AdvancedAnalytics_Assignments/assignment 3/saved-stories/saved_stories-1715625600000/part-00011\n",
      "/Users/camillecu/Downloads/KUL/AdvancedAnalytic/AdvancedAnalytics_Assignments/assignment 3/saved-stories/saved_stories-1715625600000/part-00016\n",
      "/Users/camillecu/Downloads/KUL/AdvancedAnalytic/AdvancedAnalytics_Assignments/assignment 3/saved-stories/saved_stories-1715625600000/part-00029\n",
      "/Users/camillecu/Downloads/KUL/AdvancedAnalytic/AdvancedAnalytics_Assignments/assignment 3/saved-stories/saved_stories-1715625600000/part-00042\n",
      "/Users/camillecu/Downloads/KUL/AdvancedAnalytic/AdvancedAnalytics_Assignments/assignment 3/saved-stories/saved_stories-1715625600000/part-00045\n",
      "/Users/camillecu/Downloads/KUL/AdvancedAnalytic/AdvancedAnalytics_Assignments/assignment 3/saved-stories/saved_stories-1715625600000/part-00056\n",
      "/Users/camillecu/Downloads/KUL/AdvancedAnalytic/AdvancedAnalytics_Assignments/assignment 3/saved-stories/saved_stories-1715625600000/part-00051\n",
      "/Users/camillecu/Downloads/KUL/AdvancedAnalytic/AdvancedAnalytics_Assignments/assignment 3/saved-stories/saved_stories-1715625600000/part-00067\n",
      "/Users/camillecu/Downloads/KUL/AdvancedAnalytic/AdvancedAnalytics_Assignments/assignment 3/saved-stories/saved_stories-1715625600000/part-00058\n",
      "/Users/camillecu/Downloads/KUL/AdvancedAnalytic/AdvancedAnalytics_Assignments/assignment 3/saved-stories/saved_stories-1715625600000/part-00060\n",
      "/Users/camillecu/Downloads/KUL/AdvancedAnalytic/AdvancedAnalytics_Assignments/assignment 3/saved-stories/saved_stories-1715625600000/part-00034\n",
      "/Users/camillecu/Downloads/KUL/AdvancedAnalytic/AdvancedAnalytics_Assignments/assignment 3/saved-stories/saved_stories-1715625600000/part-00033\n",
      "/Users/camillecu/Downloads/KUL/AdvancedAnalytic/AdvancedAnalytics_Assignments/assignment 3/saved-stories/saved_stories-1715625600000/part-00005\n",
      "/Users/camillecu/Downloads/KUL/AdvancedAnalytic/AdvancedAnalytics_Assignments/assignment 3/saved-stories/saved_stories-1715625600000/part-00002\n",
      "/Users/camillecu/Downloads/KUL/AdvancedAnalytic/AdvancedAnalytics_Assignments/assignment 3/saved-stories/saved_stories-1715625600000/part-00061\n",
      "/Users/camillecu/Downloads/KUL/AdvancedAnalytic/AdvancedAnalytics_Assignments/assignment 3/saved-stories/saved_stories-1715625600000/part-00066\n",
      "/Users/camillecu/Downloads/KUL/AdvancedAnalytic/AdvancedAnalytics_Assignments/assignment 3/saved-stories/saved_stories-1715625600000/part-00059\n",
      "/Users/camillecu/Downloads/KUL/AdvancedAnalytic/AdvancedAnalytics_Assignments/assignment 3/saved-stories/saved_stories-1715625600000/part-00050\n",
      "/Users/camillecu/Downloads/KUL/AdvancedAnalytic/AdvancedAnalytics_Assignments/assignment 3/saved-stories/saved_stories-1715625600000/part-00057\n",
      "/Users/camillecu/Downloads/KUL/AdvancedAnalytic/AdvancedAnalytics_Assignments/assignment 3/saved-stories/saved_stories-1715625600000/part-00003\n",
      "/Users/camillecu/Downloads/KUL/AdvancedAnalytic/AdvancedAnalytics_Assignments/assignment 3/saved-stories/saved_stories-1715625600000/part-00004\n",
      "/Users/camillecu/Downloads/KUL/AdvancedAnalytic/AdvancedAnalytics_Assignments/assignment 3/saved-stories/saved_stories-1715625600000/part-00032\n",
      "/Users/camillecu/Downloads/KUL/AdvancedAnalytic/AdvancedAnalytics_Assignments/assignment 3/saved-stories/saved_stories-1715625600000/part-00035\n",
      "/Users/camillecu/Downloads/KUL/AdvancedAnalytic/AdvancedAnalytics_Assignments/assignment 3/saved-stories/saved_stories-1715625600000/part-00049\n",
      "/Users/camillecu/Downloads/KUL/AdvancedAnalytic/AdvancedAnalytics_Assignments/assignment 3/saved-stories/saved_stories-1715625600000/part-00040\n",
      "/Users/camillecu/Downloads/KUL/AdvancedAnalytic/AdvancedAnalytics_Assignments/assignment 3/saved-stories/saved_stories-1715625600000/part-00047\n",
      "/Users/camillecu/Downloads/KUL/AdvancedAnalytic/AdvancedAnalytics_Assignments/assignment 3/saved-stories/saved_stories-1715625600000/part-00013\n",
      "/Users/camillecu/Downloads/KUL/AdvancedAnalytic/AdvancedAnalytics_Assignments/assignment 3/saved-stories/saved_stories-1715625600000/part-00014\n",
      "/Users/camillecu/Downloads/KUL/AdvancedAnalytic/AdvancedAnalytics_Assignments/assignment 3/saved-stories/saved_stories-1715625600000/part-00022\n",
      "/Users/camillecu/Downloads/KUL/AdvancedAnalytic/AdvancedAnalytics_Assignments/assignment 3/saved-stories/saved_stories-1715625600000/part-00025\n",
      "/Users/camillecu/Downloads/KUL/AdvancedAnalytic/AdvancedAnalytics_Assignments/assignment 3/saved-stories/saved_stories-1715625600000/part-00046\n",
      "/Users/camillecu/Downloads/KUL/AdvancedAnalytic/AdvancedAnalytics_Assignments/assignment 3/saved-stories/saved_stories-1715625600000/part-00041\n",
      "/Users/camillecu/Downloads/KUL/AdvancedAnalytic/AdvancedAnalytics_Assignments/assignment 3/saved-stories/saved_stories-1715625600000/part-00048\n",
      "/Users/camillecu/Downloads/KUL/AdvancedAnalytic/AdvancedAnalytics_Assignments/assignment 3/saved-stories/saved_stories-1715625600000/part-00024\n",
      "/Users/camillecu/Downloads/KUL/AdvancedAnalytic/AdvancedAnalytics_Assignments/assignment 3/saved-stories/saved_stories-1715625600000/part-00023\n",
      "/Users/camillecu/Downloads/KUL/AdvancedAnalytic/AdvancedAnalytics_Assignments/assignment 3/saved-stories/saved_stories-1715625600000/part-00015\n",
      "/Users/camillecu/Downloads/KUL/AdvancedAnalytic/AdvancedAnalytics_Assignments/assignment 3/saved-stories/saved_stories-1715625600000/part-00012\n",
      "/Users/camillecu/Downloads/KUL/AdvancedAnalytic/AdvancedAnalytics_Assignments/assignment 3/saved-stories/saved_stories-1715625600000/part-00030\n",
      "/Users/camillecu/Downloads/KUL/AdvancedAnalytic/AdvancedAnalytics_Assignments/assignment 3/saved-stories/saved_stories-1715625600000/part-00008\n",
      "/Users/camillecu/Downloads/KUL/AdvancedAnalytic/AdvancedAnalytics_Assignments/assignment 3/saved-stories/saved_stories-1715625600000/part-00037\n",
      "/Users/camillecu/Downloads/KUL/AdvancedAnalytic/AdvancedAnalytics_Assignments/assignment 3/saved-stories/saved_stories-1715625600000/part-00001\n",
      "/Users/camillecu/Downloads/KUL/AdvancedAnalytic/AdvancedAnalytics_Assignments/assignment 3/saved-stories/saved_stories-1715625600000/part-00039\n",
      "/Users/camillecu/Downloads/KUL/AdvancedAnalytic/AdvancedAnalytics_Assignments/assignment 3/saved-stories/saved_stories-1715625600000/part-00006\n",
      "/Users/camillecu/Downloads/KUL/AdvancedAnalytic/AdvancedAnalytics_Assignments/assignment 3/saved-stories/saved_stories-1715625600000/part-00052\n",
      "/Users/camillecu/Downloads/KUL/AdvancedAnalytic/AdvancedAnalytics_Assignments/assignment 3/saved-stories/saved_stories-1715625600000/part-00055\n",
      "/Users/camillecu/Downloads/KUL/AdvancedAnalytic/AdvancedAnalytics_Assignments/assignment 3/saved-stories/saved_stories-1715625600000/part-00063\n",
      "/Users/camillecu/Downloads/KUL/AdvancedAnalytic/AdvancedAnalytics_Assignments/assignment 3/saved-stories/saved_stories-1715625600000/part-00064\n",
      "/Users/camillecu/Downloads/KUL/AdvancedAnalytic/AdvancedAnalytics_Assignments/assignment 3/saved-stories/saved_stories-1715625600000/part-00038\n",
      "/Users/camillecu/Downloads/KUL/AdvancedAnalytic/AdvancedAnalytics_Assignments/assignment 3/saved-stories/saved_stories-1715625600000/part-00007\n",
      "/Users/camillecu/Downloads/KUL/AdvancedAnalytic/AdvancedAnalytics_Assignments/assignment 3/saved-stories/saved_stories-1715625600000/part-00000\n",
      "/Users/camillecu/Downloads/KUL/AdvancedAnalytic/AdvancedAnalytics_Assignments/assignment 3/saved-stories/saved_stories-1715625600000/part-00009\n",
      "/Users/camillecu/Downloads/KUL/AdvancedAnalytic/AdvancedAnalytics_Assignments/assignment 3/saved-stories/saved_stories-1715625600000/part-00036\n",
      "/Users/camillecu/Downloads/KUL/AdvancedAnalytic/AdvancedAnalytics_Assignments/assignment 3/saved-stories/saved_stories-1715625600000/part-00031\n",
      "/Users/camillecu/Downloads/KUL/AdvancedAnalytic/AdvancedAnalytics_Assignments/assignment 3/saved-stories/saved_stories-1715625600000/part-00065\n",
      "/Users/camillecu/Downloads/KUL/AdvancedAnalytic/AdvancedAnalytics_Assignments/assignment 3/saved-stories/saved_stories-1715625600000/part-00062\n",
      "/Users/camillecu/Downloads/KUL/AdvancedAnalytic/AdvancedAnalytics_Assignments/assignment 3/saved-stories/saved_stories-1715625600000/part-00054\n",
      "/Users/camillecu/Downloads/KUL/AdvancedAnalytic/AdvancedAnalytics_Assignments/assignment 3/saved-stories/saved_stories-1715625600000/part-00053\n",
      "/Users/camillecu/Downloads/KUL/AdvancedAnalytic/AdvancedAnalytics_Assignments/assignment 3/saved-stories/saved_stories-1715625720000/part-00017\n",
      "/Users/camillecu/Downloads/KUL/AdvancedAnalytic/AdvancedAnalytics_Assignments/assignment 3/saved-stories/saved_stories-1715625720000/part-00028\n",
      "/Users/camillecu/Downloads/KUL/AdvancedAnalytic/AdvancedAnalytics_Assignments/assignment 3/saved-stories/saved_stories-1715625720000/part-00010\n",
      "/Users/camillecu/Downloads/KUL/AdvancedAnalytic/AdvancedAnalytics_Assignments/assignment 3/saved-stories/saved_stories-1715625720000/part-00026\n",
      "/Users/camillecu/Downloads/KUL/AdvancedAnalytic/AdvancedAnalytics_Assignments/assignment 3/saved-stories/saved_stories-1715625720000/part-00019\n",
      "/Users/camillecu/Downloads/KUL/AdvancedAnalytic/AdvancedAnalytics_Assignments/assignment 3/saved-stories/saved_stories-1715625720000/part-00021\n",
      "/Users/camillecu/Downloads/KUL/AdvancedAnalytic/AdvancedAnalytics_Assignments/assignment 3/saved-stories/saved_stories-1715625720000/part-00075\n",
      "/Users/camillecu/Downloads/KUL/AdvancedAnalytic/AdvancedAnalytics_Assignments/assignment 3/saved-stories/saved_stories-1715625720000/part-00072\n",
      "/Users/camillecu/Downloads/KUL/AdvancedAnalytic/AdvancedAnalytics_Assignments/assignment 3/saved-stories/saved_stories-1715625720000/part-00044\n",
      "/Users/camillecu/Downloads/KUL/AdvancedAnalytic/AdvancedAnalytics_Assignments/assignment 3/saved-stories/saved_stories-1715625720000/part-00043\n",
      "/Users/camillecu/Downloads/KUL/AdvancedAnalytic/AdvancedAnalytics_Assignments/assignment 3/saved-stories/saved_stories-1715625720000/part-00020\n",
      "/Users/camillecu/Downloads/KUL/AdvancedAnalytic/AdvancedAnalytics_Assignments/assignment 3/saved-stories/saved_stories-1715625720000/part-00027\n",
      "/Users/camillecu/Downloads/KUL/AdvancedAnalytic/AdvancedAnalytics_Assignments/assignment 3/saved-stories/saved_stories-1715625720000/part-00018\n",
      "/Users/camillecu/Downloads/KUL/AdvancedAnalytic/AdvancedAnalytics_Assignments/assignment 3/saved-stories/saved_stories-1715625720000/part-00011\n",
      "/Users/camillecu/Downloads/KUL/AdvancedAnalytic/AdvancedAnalytics_Assignments/assignment 3/saved-stories/saved_stories-1715625720000/part-00016\n",
      "/Users/camillecu/Downloads/KUL/AdvancedAnalytic/AdvancedAnalytics_Assignments/assignment 3/saved-stories/saved_stories-1715625720000/part-00029\n",
      "/Users/camillecu/Downloads/KUL/AdvancedAnalytic/AdvancedAnalytics_Assignments/assignment 3/saved-stories/saved_stories-1715625720000/part-00042\n",
      "/Users/camillecu/Downloads/KUL/AdvancedAnalytic/AdvancedAnalytics_Assignments/assignment 3/saved-stories/saved_stories-1715625720000/part-00045\n",
      "/Users/camillecu/Downloads/KUL/AdvancedAnalytic/AdvancedAnalytics_Assignments/assignment 3/saved-stories/saved_stories-1715625720000/part-00073\n",
      "/Users/camillecu/Downloads/KUL/AdvancedAnalytic/AdvancedAnalytics_Assignments/assignment 3/saved-stories/saved_stories-1715625720000/part-00074\n",
      "/Users/camillecu/Downloads/KUL/AdvancedAnalytic/AdvancedAnalytics_Assignments/assignment 3/saved-stories/saved_stories-1715625720000/part-00056\n",
      "/Users/camillecu/Downloads/KUL/AdvancedAnalytic/AdvancedAnalytics_Assignments/assignment 3/saved-stories/saved_stories-1715625720000/part-00069\n",
      "/Users/camillecu/Downloads/KUL/AdvancedAnalytic/AdvancedAnalytics_Assignments/assignment 3/saved-stories/saved_stories-1715625720000/part-00051\n",
      "/Users/camillecu/Downloads/KUL/AdvancedAnalytic/AdvancedAnalytics_Assignments/assignment 3/saved-stories/saved_stories-1715625720000/part-00067\n",
      "/Users/camillecu/Downloads/KUL/AdvancedAnalytic/AdvancedAnalytics_Assignments/assignment 3/saved-stories/saved_stories-1715625720000/part-00058\n",
      "/Users/camillecu/Downloads/KUL/AdvancedAnalytic/AdvancedAnalytics_Assignments/assignment 3/saved-stories/saved_stories-1715625720000/part-00060\n",
      "/Users/camillecu/Downloads/KUL/AdvancedAnalytic/AdvancedAnalytics_Assignments/assignment 3/saved-stories/saved_stories-1715625720000/part-00034\n",
      "/Users/camillecu/Downloads/KUL/AdvancedAnalytic/AdvancedAnalytics_Assignments/assignment 3/saved-stories/saved_stories-1715625720000/part-00033\n",
      "/Users/camillecu/Downloads/KUL/AdvancedAnalytic/AdvancedAnalytics_Assignments/assignment 3/saved-stories/saved_stories-1715625720000/part-00005\n",
      "/Users/camillecu/Downloads/KUL/AdvancedAnalytic/AdvancedAnalytics_Assignments/assignment 3/saved-stories/saved_stories-1715625720000/part-00002\n",
      "/Users/camillecu/Downloads/KUL/AdvancedAnalytic/AdvancedAnalytics_Assignments/assignment 3/saved-stories/saved_stories-1715625720000/part-00061\n",
      "/Users/camillecu/Downloads/KUL/AdvancedAnalytic/AdvancedAnalytics_Assignments/assignment 3/saved-stories/saved_stories-1715625720000/part-00066\n",
      "/Users/camillecu/Downloads/KUL/AdvancedAnalytic/AdvancedAnalytics_Assignments/assignment 3/saved-stories/saved_stories-1715625720000/part-00059\n",
      "/Users/camillecu/Downloads/KUL/AdvancedAnalytic/AdvancedAnalytics_Assignments/assignment 3/saved-stories/saved_stories-1715625720000/part-00050\n",
      "/Users/camillecu/Downloads/KUL/AdvancedAnalytic/AdvancedAnalytics_Assignments/assignment 3/saved-stories/saved_stories-1715625720000/part-00057\n",
      "/Users/camillecu/Downloads/KUL/AdvancedAnalytic/AdvancedAnalytics_Assignments/assignment 3/saved-stories/saved_stories-1715625720000/part-00068\n",
      "/Users/camillecu/Downloads/KUL/AdvancedAnalytic/AdvancedAnalytics_Assignments/assignment 3/saved-stories/saved_stories-1715625720000/part-00003\n",
      "/Users/camillecu/Downloads/KUL/AdvancedAnalytic/AdvancedAnalytics_Assignments/assignment 3/saved-stories/saved_stories-1715625720000/part-00004\n",
      "/Users/camillecu/Downloads/KUL/AdvancedAnalytic/AdvancedAnalytics_Assignments/assignment 3/saved-stories/saved_stories-1715625720000/part-00032\n",
      "/Users/camillecu/Downloads/KUL/AdvancedAnalytic/AdvancedAnalytics_Assignments/assignment 3/saved-stories/saved_stories-1715625720000/part-00035\n",
      "/Users/camillecu/Downloads/KUL/AdvancedAnalytic/AdvancedAnalytics_Assignments/assignment 3/saved-stories/saved_stories-1715625720000/part-00071\n",
      "/Users/camillecu/Downloads/KUL/AdvancedAnalytic/AdvancedAnalytics_Assignments/assignment 3/saved-stories/saved_stories-1715625720000/part-00049\n",
      "/Users/camillecu/Downloads/KUL/AdvancedAnalytic/AdvancedAnalytics_Assignments/assignment 3/saved-stories/saved_stories-1715625720000/part-00076\n",
      "/Users/camillecu/Downloads/KUL/AdvancedAnalytic/AdvancedAnalytics_Assignments/assignment 3/saved-stories/saved_stories-1715625720000/part-00040\n",
      "/Users/camillecu/Downloads/KUL/AdvancedAnalytic/AdvancedAnalytics_Assignments/assignment 3/saved-stories/saved_stories-1715625720000/part-00047\n",
      "/Users/camillecu/Downloads/KUL/AdvancedAnalytic/AdvancedAnalytics_Assignments/assignment 3/saved-stories/saved_stories-1715625720000/part-00013\n",
      "/Users/camillecu/Downloads/KUL/AdvancedAnalytic/AdvancedAnalytics_Assignments/assignment 3/saved-stories/saved_stories-1715625720000/part-00014\n",
      "/Users/camillecu/Downloads/KUL/AdvancedAnalytic/AdvancedAnalytics_Assignments/assignment 3/saved-stories/saved_stories-1715625720000/part-00022\n",
      "/Users/camillecu/Downloads/KUL/AdvancedAnalytic/AdvancedAnalytics_Assignments/assignment 3/saved-stories/saved_stories-1715625720000/part-00025\n",
      "/Users/camillecu/Downloads/KUL/AdvancedAnalytic/AdvancedAnalytics_Assignments/assignment 3/saved-stories/saved_stories-1715625720000/part-00046\n",
      "/Users/camillecu/Downloads/KUL/AdvancedAnalytic/AdvancedAnalytics_Assignments/assignment 3/saved-stories/saved_stories-1715625720000/part-00041\n",
      "/Users/camillecu/Downloads/KUL/AdvancedAnalytic/AdvancedAnalytics_Assignments/assignment 3/saved-stories/saved_stories-1715625720000/part-00048\n",
      "/Users/camillecu/Downloads/KUL/AdvancedAnalytic/AdvancedAnalytics_Assignments/assignment 3/saved-stories/saved_stories-1715625720000/part-00070\n",
      "/Users/camillecu/Downloads/KUL/AdvancedAnalytic/AdvancedAnalytics_Assignments/assignment 3/saved-stories/saved_stories-1715625720000/part-00024\n",
      "/Users/camillecu/Downloads/KUL/AdvancedAnalytic/AdvancedAnalytics_Assignments/assignment 3/saved-stories/saved_stories-1715625720000/part-00023\n",
      "/Users/camillecu/Downloads/KUL/AdvancedAnalytic/AdvancedAnalytics_Assignments/assignment 3/saved-stories/saved_stories-1715625720000/part-00015\n",
      "/Users/camillecu/Downloads/KUL/AdvancedAnalytic/AdvancedAnalytics_Assignments/assignment 3/saved-stories/saved_stories-1715625720000/part-00012\n",
      "/Users/camillecu/Downloads/KUL/AdvancedAnalytic/AdvancedAnalytics_Assignments/assignment 3/saved-stories/saved_stories-1715625720000/part-00030\n",
      "/Users/camillecu/Downloads/KUL/AdvancedAnalytic/AdvancedAnalytics_Assignments/assignment 3/saved-stories/saved_stories-1715625720000/part-00008\n",
      "/Users/camillecu/Downloads/KUL/AdvancedAnalytic/AdvancedAnalytics_Assignments/assignment 3/saved-stories/saved_stories-1715625720000/part-00037\n",
      "/Users/camillecu/Downloads/KUL/AdvancedAnalytic/AdvancedAnalytics_Assignments/assignment 3/saved-stories/saved_stories-1715625720000/part-00001\n",
      "/Users/camillecu/Downloads/KUL/AdvancedAnalytic/AdvancedAnalytics_Assignments/assignment 3/saved-stories/saved_stories-1715625720000/part-00039\n",
      "/Users/camillecu/Downloads/KUL/AdvancedAnalytic/AdvancedAnalytics_Assignments/assignment 3/saved-stories/saved_stories-1715625720000/part-00006\n",
      "/Users/camillecu/Downloads/KUL/AdvancedAnalytic/AdvancedAnalytics_Assignments/assignment 3/saved-stories/saved_stories-1715625720000/part-00052\n",
      "/Users/camillecu/Downloads/KUL/AdvancedAnalytic/AdvancedAnalytics_Assignments/assignment 3/saved-stories/saved_stories-1715625720000/part-00055\n",
      "/Users/camillecu/Downloads/KUL/AdvancedAnalytic/AdvancedAnalytics_Assignments/assignment 3/saved-stories/saved_stories-1715625720000/part-00063\n",
      "/Users/camillecu/Downloads/KUL/AdvancedAnalytic/AdvancedAnalytics_Assignments/assignment 3/saved-stories/saved_stories-1715625720000/part-00064\n",
      "/Users/camillecu/Downloads/KUL/AdvancedAnalytic/AdvancedAnalytics_Assignments/assignment 3/saved-stories/saved_stories-1715625720000/part-00038\n",
      "/Users/camillecu/Downloads/KUL/AdvancedAnalytic/AdvancedAnalytics_Assignments/assignment 3/saved-stories/saved_stories-1715625720000/part-00007\n",
      "/Users/camillecu/Downloads/KUL/AdvancedAnalytic/AdvancedAnalytics_Assignments/assignment 3/saved-stories/saved_stories-1715625720000/part-00000\n",
      "/Users/camillecu/Downloads/KUL/AdvancedAnalytic/AdvancedAnalytics_Assignments/assignment 3/saved-stories/saved_stories-1715625720000/part-00009\n",
      "/Users/camillecu/Downloads/KUL/AdvancedAnalytic/AdvancedAnalytics_Assignments/assignment 3/saved-stories/saved_stories-1715625720000/part-00036\n",
      "/Users/camillecu/Downloads/KUL/AdvancedAnalytic/AdvancedAnalytics_Assignments/assignment 3/saved-stories/saved_stories-1715625720000/part-00031\n",
      "/Users/camillecu/Downloads/KUL/AdvancedAnalytic/AdvancedAnalytics_Assignments/assignment 3/saved-stories/saved_stories-1715625720000/part-00065\n",
      "/Users/camillecu/Downloads/KUL/AdvancedAnalytic/AdvancedAnalytics_Assignments/assignment 3/saved-stories/saved_stories-1715625720000/part-00062\n",
      "/Users/camillecu/Downloads/KUL/AdvancedAnalytic/AdvancedAnalytics_Assignments/assignment 3/saved-stories/saved_stories-1715625720000/part-00054\n",
      "/Users/camillecu/Downloads/KUL/AdvancedAnalytic/AdvancedAnalytics_Assignments/assignment 3/saved-stories/saved_stories-1715625720000/part-00053\n"
     ]
    }
   ],
   "source": [
    "\n",
    "\n",
    "data = []\n",
    "\n",
    "# Loop through all files in the Spark_test folder\n",
    "for foldername, subfolders, filenames in os.walk('/Users/camillecu/Downloads/KUL/AdvancedAnalytic/AdvancedAnalytics_Assignments/assignment 3/saved-stories'):\n",
    "    for filename in filenames:\n",
    "        # Check if the file is a .file and starts with 'part-'\n",
    "        if filename.startswith('part-'):\n",
    "            filepath = os.path.join(foldername, filename)\n",
    "            print(filepath)\n",
    "            # Open the file and parse each line as a JSON object\n",
    "            with open(filepath, 'r') as f:\n",
    "                for line in f:\n",
    "                    obj = json.loads(line)\n",
    "                    # Extract the required fields and append to the data list\n",
    "                    data.append({\n",
    "                        'aid': obj['aid'],\n",
    "                        'title': obj['title'],\n",
    "                        'url': obj['url'],\n",
    "                        'domain': obj['domain'],\n",
    "                        'user': obj['user'],\n",
    "                        'posted_at': obj['posted_at'],\n",
    "                        'comments': obj['comments'],\n",
    "                        'source_title': obj['source_title'],\n",
    "                        'source_text': obj['source_text'],\n",
    "                        'frontpage': obj['frontpage'],\n",
    "                    })\n",
    "\n"
   ]
  },
  {
   "cell_type": "code",
   "execution_count": 3,
   "metadata": {},
   "outputs": [
    {
     "name": "stderr",
     "output_type": "stream",
     "text": [
      "24/05/25 21:07:29 WARN Utils: Your hostname, Camilles-MacBook-Pro.local resolves to a loopback address: 127.0.0.1; using 192.168.0.100 instead (on interface en0)\n",
      "24/05/25 21:07:29 WARN Utils: Set SPARK_LOCAL_IP if you need to bind to another address\n",
      "Setting default log level to \"WARN\".\n",
      "To adjust logging level use sc.setLogLevel(newLevel). For SparkR, use setLogLevel(newLevel).\n",
      "24/05/25 21:07:30 WARN NativeCodeLoader: Unable to load native-hadoop library for your platform... using builtin-java classes where applicable\n",
      "24/05/25 21:07:31 WARN Utils: Service 'SparkUI' could not bind on port 4040. Attempting port 4041.\n",
      "24/05/25 21:07:31 WARN Utils: Service 'SparkUI' could not bind on port 4041. Attempting port 4042.\n"
     ]
    }
   ],
   "source": [
    "# Convert the data list to a PySpark DataFrame\n",
    "spark = SparkSession.builder.appName('reddit').getOrCreate()\n",
    "df = spark.createDataFrame(data)"
   ]
  },
  {
   "cell_type": "code",
   "execution_count": 4,
   "metadata": {},
   "outputs": [
    {
     "name": "stderr",
     "output_type": "stream",
     "text": [
      "24/05/25 21:07:39 WARN TaskSetManager: Stage 0 contains a task of very large size (6986 KiB). The maximum recommended task size is 1000 KiB.\n",
      "                                                                                \r"
     ]
    },
    {
     "name": "stdout",
     "output_type": "stream",
     "text": [
      "+--------+--------+--------------------+---------+-------------------+--------------------+--------------------+--------------------+--------------------+--------------+\n",
      "|     aid|comments|              domain|frontpage|          posted_at|         source_text|        source_title|               title|                 url|          user|\n",
      "+--------+--------+--------------------+---------+-------------------+--------------------+--------------------+--------------------+--------------------+--------------+\n",
      "|40334426|       0|        slashdot.org|    false|2024-05-12 13:47:02|The People Who Wo...|The People Who Wo...|Floppies are stil...|https://hardware....|         bindd|\n",
      "|40334484|       0|       sibylline.dev|    false|2024-05-12 13:53:21|Artificial Genera...|Artificial Genera...|Is AGI a Red Herr...|https://sibylline...|    CuriouslyC|\n",
      "|40334503|       0|      github.com/orf|    false|2024-05-12 13:54:27|GitHub - orf/pyve...|GitHub - orf/pyve...|Show HN: Pyvector...|https://github.co...|           orf|\n",
      "|40334530|       0|           ulisp.com|    false|2024-05-12 13:57:48|The Future of Lis...|  The Future of Lisp|  The Future of Lisp|http://forum.ulis...|          tosh|\n",
      "|40334581|       0|twitter.com/btibor91|    false|2024-05-12 14:04:11|X\\n\\nDon’t miss w...|                   X|           SearchGPT|https://twitter.c...|          tosh|\n",
      "|40334609|       0|         youtube.com|    false|2024-05-12 14:07:37|And this year's T...|And this year's T...|And this year's T...|https://www.youtu...|      amichail|\n",
      "|40334624|       0|  collectandship.com|    false|2024-05-12 14:10:02|Package Forwardin...|Package Forwardin...|Package Forwardin...|https://collectan...|    rashel2429|\n",
      "|40334653|       0|              are.na|    false|2024-05-12 14:14:10|Are.na\\n\\nAre.na\\...|              Are.na|     Abandoned Blogs|https://www.are.n...|      herbertl|\n",
      "|40334665|       0|jensrantil.github.io|    false|2024-05-12 14:15:06|On staging enviro...|On staging enviro...|Staging Environments|https://jensranti...|         jeekl|\n",
      "|40334683|       0| github.com/ibnaleem|    false|2024-05-12 14:17:29|GitHub - ibnaleem...|GitHub - ibnaleem...|Open-source YouTu...|https://github.co...|  shaffanaleem|\n",
      "|40335298|       0|    drive.google.com|    false|2024-05-12 15:38:17|HD_Econometrics.p...| HD_Econometrics.pdf|Machine Learning ...|https://drive.goo...|       HCazlab|\n",
      "|40335302|       0|    torrentfreak.com|    false|2024-05-12 15:38:42|Telegram Reported...|Telegram Reported...|Telegram Reported...|https://torrentfr...|         gslin|\n",
      "|40335314|       0|            nasa.gov|    false|2024-05-12 15:40:10|NASA Goddard Tin ...|NASA Goddard Tin ...|NASA Tin Whisker ...|https://nepp.nasa...|   huppeldepup|\n",
      "|40335318|       0|         youtube.com|    false|2024-05-12 15:41:00|🤖 LE CONTRÔLE - ...|🤖 LE CONTRÔLE - ...|A short history o...|https://www.youtu...|       smknstd|\n",
      "|40335320|       0|atomic14.substack...|    false|2024-05-12 15:41:21|Dave come see, it...|Dave come see, it...|Dave come see, it...|https://atomic14....|  iamflimflam1|\n",
      "|40335331|       0|     effectgames.com|    false|2024-05-12 15:42:57|Canvas Cycle: Tru...|Canvas Cycle: Tru...|Living Worlds – 8...|http://www.effect...|indigoabstract|\n",
      "|40333884|       0|      browsercat.com|    false|2024-05-12 12:27:05|BrowserCat | Head...|BrowserCat | Head...|BrowserCat – The ...|https://www.brows...|    keepamovin|\n",
      "|40333887|       0|     arstechnica.com|    false|2024-05-12 12:27:30|Forget aerobars: ...|Forget aerobars: ...|Forget aerobars: ...|https://arstechni...|       LorenDB|\n",
      "|40333901|      17|  cosmosmagazine.com|     true|2024-05-12 12:31:07|Small reactors do...|Small reactors do...|Small reactors do...|https://cosmosmag...|        tapper|\n",
      "|40333907|       0|      sciinsider.com|    false|2024-05-12 12:32:02|Discovery: Ancien...|Discovery: Ancien...|Discovery: Ancien...|https://sciinside...|        zikica|\n",
      "+--------+--------+--------------------+---------+-------------------+--------------------+--------------------+--------------------+--------------------+--------------+\n",
      "only showing top 20 rows\n",
      "\n"
     ]
    }
   ],
   "source": [
    "df.show()"
   ]
  },
  {
   "cell_type": "code",
   "execution_count": 5,
   "metadata": {},
   "outputs": [
    {
     "name": "stderr",
     "output_type": "stream",
     "text": [
      "24/05/25 21:07:43 WARN SparkSession: Using an existing Spark session; only runtime SQL configurations will take effect.\n"
     ]
    }
   ],
   "source": [
    "\n",
    "# Set up session\n",
    "spark = SparkSession.builder.appName('nlp').getOrCreate()"
   ]
  },
  {
   "cell_type": "markdown",
   "metadata": {},
   "source": [
    "# Preprocessing data\n",
    "- lowercase\n",
    "- remove special characters\n",
    "- fill na value"
   ]
  },
  {
   "cell_type": "code",
   "execution_count": 6,
   "metadata": {},
   "outputs": [
    {
     "name": "stderr",
     "output_type": "stream",
     "text": [
      "24/05/25 21:07:43 WARN SparkSession: Using an existing Spark session; only runtime SQL configurations will take effect.\n"
     ]
    }
   ],
   "source": [
    "# Initialize SparkSession\n",
    "spark = SparkSession.builder.appName('preprocessing').getOrCreate()\n",
    "\n",
    "# matches any character that is not a letter, digit, or whitespace with an empty string\n",
    "# converts all characters to lowercase\n",
    "def preprocess(df, column):\n",
    "    df = df.withColumn(column, lower(regexp_replace(column, '[^\\\\sa-zA-Z0-9]', '')))\n",
    "    df = df.fillna('null')\n",
    "    return df\n",
    "\n",
    "df = preprocess(df, 'title')\n",
    "df = preprocess(df, 'source_title')\n",
    "df = preprocess(df, 'source_text')\n",
    "df = preprocess(df, 'user')"
   ]
  },
  {
   "cell_type": "code",
   "execution_count": 7,
   "metadata": {},
   "outputs": [],
   "source": [
    "# convert fromtpage to binary\n",
    "df = df.withColumn('frontpage', df['frontpage'].cast('int'))\n",
    "# convert convert 'posted_at' to a timestamp type\n",
    "df = df.withColumn('posted_at', df['posted_at'].cast('timestamp'))"
   ]
  },
  {
   "cell_type": "code",
   "execution_count": 38,
   "metadata": {},
   "outputs": [
    {
     "name": "stderr",
     "output_type": "stream",
     "text": [
      "24/05/25 22:50:52 WARN TaskSetManager: Stage 190 contains a task of very large size (6986 KiB). The maximum recommended task size is 1000 KiB.\n",
      "[Stage 190:==============>                                          (2 + 6) / 8]\r"
     ]
    },
    {
     "name": "stdout",
     "output_type": "stream",
     "text": [
      "+---------+-----+\n",
      "|frontpage|count|\n",
      "+---------+-----+\n",
      "|        1|  776|\n",
      "|        0| 3028|\n",
      "+---------+-----+\n",
      "\n"
     ]
    },
    {
     "name": "stderr",
     "output_type": "stream",
     "text": [
      "                                                                                \r"
     ]
    }
   ],
   "source": [
    "# count number of distinct value in frontpage\n",
    "df.groupBy('frontpage').count().show()"
   ]
  },
  {
   "cell_type": "code",
   "execution_count": 8,
   "metadata": {},
   "outputs": [
    {
     "name": "stderr",
     "output_type": "stream",
     "text": [
      "24/05/25 21:07:44 WARN TaskSetManager: Stage 1 contains a task of very large size (6986 KiB). The maximum recommended task size is 1000 KiB.\n"
     ]
    },
    {
     "name": "stdout",
     "output_type": "stream",
     "text": [
      "+--------+--------+--------------------+---------+-------------------+--------------------+--------------------+--------------------+--------------------+--------------+\n",
      "|     aid|comments|              domain|frontpage|          posted_at|         source_text|        source_title|               title|                 url|          user|\n",
      "+--------+--------+--------------------+---------+-------------------+--------------------+--------------------+--------------------+--------------------+--------------+\n",
      "|40334426|       0|        slashdot.org|        0|2024-05-12 13:47:02|the people who wo...|the people who wo...|floppies are stil...|https://hardware....|         bindd|\n",
      "|40334484|       0|       sibylline.dev|        0|2024-05-12 13:53:21|artificial genera...|artificial genera...|is agi a red herring|https://sibylline...|    curiouslyc|\n",
      "|40334503|       0|      github.com/orf|        0|2024-05-12 13:54:27|github  orfpyvect...|github  orfpyvect...|show hn pyvectorr...|https://github.co...|           orf|\n",
      "|40334530|       0|           ulisp.com|        0|2024-05-12 13:57:48|the future of lis...|  the future of lisp|  the future of lisp|http://forum.ulis...|          tosh|\n",
      "|40334581|       0|twitter.com/btibor91|        0|2024-05-12 14:04:11|x\\n\\ndont miss wh...|                   x|           searchgpt|https://twitter.c...|          tosh|\n",
      "|40334609|       0|         youtube.com|        0|2024-05-12 14:07:37|and this years tu...|and this years tu...|and this years tu...|https://www.youtu...|      amichail|\n",
      "|40334624|       0|  collectandship.com|        0|2024-05-12 14:10:02|package forwardin...|package forwardin...|package forwardin...|https://collectan...|    rashel2429|\n",
      "|40334653|       0|              are.na|        0|2024-05-12 14:14:10|arena\\n\\narena\\n\\...|               arena|     abandoned blogs|https://www.are.n...|      herbertl|\n",
      "|40334665|       0|jensrantil.github.io|        0|2024-05-12 14:15:06|on staging enviro...|on staging enviro...|staging environments|https://jensranti...|         jeekl|\n",
      "|40334683|       0| github.com/ibnaleem|        0|2024-05-12 14:17:29|github  ibnaleemy...|github  ibnaleemy...|opensource youtub...|https://github.co...|  shaffanaleem|\n",
      "|40335298|       0|    drive.google.com|        0|2024-05-12 15:38:17|hdeconometricspdf...|   hdeconometricspdf|machine learning ...|https://drive.goo...|       hcazlab|\n",
      "|40335302|       0|    torrentfreak.com|        0|2024-05-12 15:38:42|telegram reported...|telegram reported...|telegram reported...|https://torrentfr...|         gslin|\n",
      "|40335314|       0|            nasa.gov|        0|2024-05-12 15:40:10|nasa goddard tin ...|nasa goddard tin ...|nasa tin whisker ...|https://nepp.nasa...|   huppeldepup|\n",
      "|40335318|       0|         youtube.com|        0|2024-05-12 15:41:00| le contrle  mons...| le contrle  mons...|a short history o...|https://www.youtu...|       smknstd|\n",
      "|40335320|       0|atomic14.substack...|        0|2024-05-12 15:41:21|dave come see its...|dave come see its...|dave come see its...|https://atomic14....|  iamflimflam1|\n",
      "|40335331|       0|     effectgames.com|        0|2024-05-12 15:42:57|canvas cycle true...|canvas cycle true...|living worlds  8 ...|http://www.effect...|indigoabstract|\n",
      "|40333884|       0|      browsercat.com|        0|2024-05-12 12:27:05|browsercat  headl...|browsercat  headl...|browsercat  the p...|https://www.brows...|    keepamovin|\n",
      "|40333887|       0|     arstechnica.com|        0|2024-05-12 12:27:30|forget aerobars a...|forget aerobars a...|forget aerobars a...|https://arstechni...|       lorendb|\n",
      "|40333901|      17|  cosmosmagazine.com|        1|2024-05-12 12:31:07|small reactors do...|small reactors do...|small reactors do...|https://cosmosmag...|        tapper|\n",
      "|40333907|       0|      sciinsider.com|        0|2024-05-12 12:32:02|discovery ancient...|discovery ancient...|discovery ancient...|https://sciinside...|        zikica|\n",
      "+--------+--------+--------------------+---------+-------------------+--------------------+--------------------+--------------------+--------------------+--------------+\n",
      "only showing top 20 rows\n",
      "\n"
     ]
    }
   ],
   "source": [
    "df.show()"
   ]
  },
  {
   "cell_type": "markdown",
   "metadata": {},
   "source": [
    "### train test split"
   ]
  },
  {
   "cell_type": "code",
   "execution_count": 9,
   "metadata": {},
   "outputs": [],
   "source": [
    "trainData, testData = df.randomSplit([0.7, 0.3], seed=0)"
   ]
  },
  {
   "cell_type": "markdown",
   "metadata": {},
   "source": [
    "# Feature Engineering"
   ]
  },
  {
   "cell_type": "markdown",
   "metadata": {},
   "source": [
    "### process source_title, title, source_text"
   ]
  },
  {
   "cell_type": "code",
   "execution_count": 12,
   "metadata": {},
   "outputs": [],
   "source": [
    "\n",
    "\n",
    "def process_column(df_train, df_test, column_name):\n",
    "    # Tokenize the column\n",
    "    tokenizer = Tokenizer(inputCol=column_name, outputCol=column_name + '_words')\n",
    "    df_train_tokenized = tokenizer.transform(df_train)\n",
    "    df_test_tokenized = tokenizer.transform(df_test)\n",
    "\n",
    "    # Remove stop words\n",
    "    stop_words = StopWordsRemover.loadDefaultStopWords('english')\n",
    "    stop_words_remover = StopWordsRemover(inputCol=column_name + '_words', outputCol=column_name + '_filtered_words', stopWords=stop_words)\n",
    "    df_train_tokenized = stop_words_remover.transform(df_train_tokenized)\n",
    "    df_test_tokenized = stop_words_remover.transform(df_test_tokenized)\n",
    "\n",
    "    # Generate ngrams\n",
    "    ngram = NGram(n=2, inputCol=column_name + '_filtered_words', outputCol=column_name + '_ngrams')\n",
    "    df_train_tokenized = ngram.transform(df_train_tokenized)\n",
    "    df_test_tokenized = ngram.transform(df_test_tokenized)\n",
    "\n",
    "    # Combine tokenized words and ngrams into a single column using array\n",
    "    #df_train_combined = df_train_tokenized.withColumn(column_name + '_grams', array(col(column_name + '_filtered_words'), col(column_name + '_ngrams')))\n",
    "    #df_test_combined = df_test_tokenized.withColumn(column_name + '_grams', array(col(column_name + '_filtered_words'), col(column_name + '_ngrams')))\n",
    "\n",
    "    # Apply CountVectorizer\n",
    "    cv = CountVectorizer(inputCol=column_name + '_ngrams', outputCol=column_name + '_features', vocabSize=1000)\n",
    "    cv_model = cv.fit(df_train_tokenized)\n",
    "    df_train_featurized = cv_model.transform(df_train_tokenized)\n",
    "    df_test_featurized = cv_model.transform(df_test_tokenized)\n",
    "\n",
    "    # Apply IDF\n",
    "    idf = IDF(inputCol=column_name + '_features', outputCol=column_name + '_tfidf_features')\n",
    "    idf_model = idf.fit(df_train_featurized)\n",
    "    df_train_rescaled = idf_model.transform(df_train_featurized)\n",
    "    df_test_rescaled = idf_model.transform(df_test_featurized)\n",
    "    \n",
    "    return df_train_rescaled, df_test_rescaled\n",
    "\n",
    "\n"
   ]
  },
  {
   "cell_type": "code",
   "execution_count": 13,
   "metadata": {},
   "outputs": [
    {
     "name": "stderr",
     "output_type": "stream",
     "text": [
      "24/05/25 21:12:03 WARN StopWordsRemover: Default locale set was [en_CN]; however, it was not found in available locales in JVM, falling back to en_US locale. Set param `locale` in order to respect another locale.\n",
      "24/05/25 21:12:04 WARN TaskSetManager: Stage 2 contains a task of very large size (6986 KiB). The maximum recommended task size is 1000 KiB.\n",
      "24/05/25 21:12:16 WARN TaskSetManager: Stage 6 contains a task of very large size (6986 KiB). The maximum recommended task size is 1000 KiB.\n",
      "24/05/25 21:12:25 WARN StopWordsRemover: Default locale set was [en_CN]; however, it was not found in available locales in JVM, falling back to en_US locale. Set param `locale` in order to respect another locale.\n",
      "24/05/25 21:12:25 WARN TaskSetManager: Stage 8 contains a task of very large size (6986 KiB). The maximum recommended task size is 1000 KiB.\n",
      "24/05/25 21:12:30 WARN TaskSetManager: Stage 12 contains a task of very large size (6986 KiB). The maximum recommended task size is 1000 KiB.\n",
      "24/05/25 21:12:35 WARN StopWordsRemover: Default locale set was [en_CN]; however, it was not found in available locales in JVM, falling back to en_US locale. Set param `locale` in order to respect another locale.\n",
      "24/05/25 21:12:36 WARN TaskSetManager: Stage 14 contains a task of very large size (6986 KiB). The maximum recommended task size is 1000 KiB.\n",
      "24/05/25 21:13:02 WARN TaskSetManager: Stage 18 contains a task of very large size (6986 KiB). The maximum recommended task size is 1000 KiB.\n",
      "                                                                                \r"
     ]
    }
   ],
   "source": [
    "trainData, testData = process_column(trainData, testData, 'source_title')\n",
    "trainData, testData = process_column(trainData, testData, 'title')\n",
    "trainData, testData = process_column(trainData, testData, 'source_text')"
   ]
  },
  {
   "cell_type": "code",
   "execution_count": 15,
   "metadata": {},
   "outputs": [],
   "source": [
    "# drop the columns: source_text, source_title, title,  title_features, source_title_features, source_text_features\n",
    "rescaled_train = trainData.drop('source_text', 'source_title', 'title', 'title_words', 'source_title_words', 'source_text_words', 'title_features', 'source_title_features', 'source_text_features')\n",
    "rescaled_test = testData.drop('source_text', 'source_title', 'title', 'title_words', 'source_title_words', 'source_text_words', 'title_features', 'source_title_features', 'source_text_features')\n",
    "# drop aid and url\n",
    "rescaled_train = rescaled_train.drop('aid', 'url')\n",
    "rescaled_test = rescaled_test.drop('aid', 'url')"
   ]
  },
  {
   "cell_type": "markdown",
   "metadata": {},
   "source": [
    "###  Handling Categorical Columns (domain, user)"
   ]
  },
  {
   "cell_type": "code",
   "execution_count": 16,
   "metadata": {},
   "outputs": [],
   "source": [
    "\n",
    "\n",
    "# Function to process categorical columns with StringIndexer\n",
    "def process_categorical_columns_with_indexer(df_train, df_test, categorical_cols):\n",
    "    # initializes an empty list to store the stages of the pipeline\n",
    "    stages = []\n",
    "    \n",
    "    for col in categorical_cols:\n",
    "        # creates a StringIndexer for the column with the handleInvalid parameter set to 'skip' to ignore unseen labels\n",
    "        indexer = StringIndexer(inputCol=col, outputCol=col + \"_indexed\", handleInvalid='skip')\n",
    "        # adds the indexer to the list of stages\n",
    "        stages += [indexer]\n",
    "    \n",
    "    pipeline = Pipeline(stages=stages)\n",
    "    pipeline_model = pipeline.fit(df_train)\n",
    "    df_train = pipeline_model.transform(df_train)\n",
    "    df_test = pipeline_model.transform(df_test)\n",
    "    \n",
    "    return df_train, df_test\n",
    "\n"
   ]
  },
  {
   "cell_type": "code",
   "execution_count": 17,
   "metadata": {},
   "outputs": [
    {
     "name": "stderr",
     "output_type": "stream",
     "text": [
      "24/05/25 21:18:07 WARN TaskSetManager: Stage 20 contains a task of very large size (6986 KiB). The maximum recommended task size is 1000 KiB.\n",
      "24/05/25 21:18:13 WARN TaskSetManager: Stage 23 contains a task of very large size (6986 KiB). The maximum recommended task size is 1000 KiB.\n",
      "                                                                                \r"
     ]
    }
   ],
   "source": [
    "categorical_cols = ['domain', 'user']\n",
    "processed_train, processed_test = process_categorical_columns_with_indexer(rescaled_train, rescaled_test, categorical_cols)"
   ]
  },
  {
   "cell_type": "code",
   "execution_count": 18,
   "metadata": {},
   "outputs": [],
   "source": [
    "# Function to process timestamp column\n",
    "def process_timestamp_column(df, column):\n",
    "    df = df.withColumn(column + \"_hour\", hour(df[column]))\n",
    "    df = df.withColumn(column + \"_dayofweek\", dayofweek(df[column]))\n",
    "    df = df.withColumn(column + \"_month\", month(df[column]))\n",
    "    df = df.withColumn(column + \"_year\", year(df[column]))\n",
    "    return df\n",
    "\n",
    "# Process timestamp column\n",
    "train_final = process_timestamp_column(processed_train, 'posted_at')\n",
    "test_final = process_timestamp_column(processed_test, 'posted_at')"
   ]
  },
  {
   "cell_type": "code",
   "execution_count": 19,
   "metadata": {},
   "outputs": [],
   "source": [
    "# drop  posted_at, user, domain columns from the train and test data\n",
    "train_final = train_final.drop('posted_at', 'user', 'domain')\n",
    "test_final = test_final.drop('posted_at', 'user', 'domain')"
   ]
  },
  {
   "cell_type": "code",
   "execution_count": 20,
   "metadata": {},
   "outputs": [],
   "source": [
    "# Function to assemble features into a single vector\n",
    "#def assemble_features(df, feature_cols, output_col='features'):\n",
    "#    assembler = VectorAssembler(inputCols=feature_cols, outputCol=output_col)\n",
    "#    df = assembler.transform(df)\n",
    "#    return df"
   ]
  },
  {
   "cell_type": "code",
   "execution_count": 21,
   "metadata": {},
   "outputs": [
    {
     "name": "stderr",
     "output_type": "stream",
     "text": [
      "24/05/25 21:18:19 WARN TaskSetManager: Stage 26 contains a task of very large size (6986 KiB). The maximum recommended task size is 1000 KiB.\n",
      "[Stage 26:>                                                         (0 + 1) / 1]\r"
     ]
    },
    {
     "name": "stdout",
     "output_type": "stream",
     "text": [
      "+--------+---------+---------------------------+--------------------+---------------------------+--------------------+--------------------+--------------------+--------------------------+--------------------+--------------------------+--------------+------------+--------------+-------------------+---------------+--------------+\n",
      "|comments|frontpage|source_title_filtered_words| source_title_ngrams|source_title_tfidf_features|title_filtered_words|        title_ngrams|title_tfidf_features|source_text_filtered_words|  source_text_ngrams|source_text_tfidf_features|domain_indexed|user_indexed|posted_at_hour|posted_at_dayofweek|posted_at_month|posted_at_year|\n",
      "+--------+---------+---------------------------+--------------------+---------------------------+--------------------+--------------------+--------------------+--------------------------+--------------------+--------------------------+--------------+------------+--------------+-------------------+---------------+--------------+\n",
      "|       0|        0|                   [moment]|                  []|               (1000,[],[])|    [archie, search]|     [archie search]|        (1000,[],[])|      [moment, , , arch...|[moment ,  ,  arc...|      (1000,[0,165,496,...|        1301.0|        33.0|             9|                  1|              5|          2024|\n",
      "|       0|        0|       [teach, read, , t...|[teach read, read...|       (1000,[469,932],[...|[teach, read, , t...|[teach read, read...|(1000,[245],[14.3...|      [teach, read, , t...|[teach read, read...|      (1000,[0,35,61,74...|         941.0|        90.0|             9|                  1|              5|          2024|\n",
      "|       0|        0|           [torpedo, juice]|     [torpedo juice]|               (1000,[],[])|    [torpedo, juice]|     [torpedo juice]|        (1000,[],[])|      [torpedo, juice, ...|[torpedo juice, j...|      (1000,[0,3,4,61,6...|           2.0|       488.0|             9|                  1|              5|          2024|\n",
      "|       0|        0|       [blog, introducin...|[blog introducing...|               (1000,[],[])|[cnn, model, accu...|[cnn model, model...|        (1000,[],[])|      [blog, introducin...|[blog introducing...|      (1000,[0,60,64,11...|        1062.0|       832.0|             9|                  1|              5|          2024|\n",
      "|       0|        0|                   [moment]|                  []|               (1000,[],[])|[mechanics, tempo...|[mechanics tempor...|        (1000,[],[])|      [moment, , , wwwb...|[moment ,  ,  www...|      (1000,[0,165,496,...|         391.0|       913.0|             9|                  1|              5|          2024|\n",
      "|       0|        0|           [messy, thinker]|     [messy thinker]|               (1000,[],[])|    [messy, thinker]|     [messy thinker]|        (1000,[],[])|      [messy, thinker, ...|[messy thinker, t...|      (1000,[0,1,35,112...|         877.0|      1122.0|            10|                  1|              5|          2024|\n",
      "|       0|        1|       [roll, lisp, c, ,...|[roll lisp, lisp ...|       (1000,[324],[6.78...|[roll, lisp, c, ,...|[roll lisp, lisp ...|        (1000,[],[])|      [roll, lisp, c, ,...|[roll lisp, lisp ...|      (1000,[0,258,273,...|        1372.0|       296.0|            10|                  1|              5|          2024|\n",
      "|       0|        0|       [children, become...|[children become,...|               (1000,[],[])|[children, become...|[children become,...|        (1000,[],[])|      [children, become...|[children become,...|      (1000,[0,3,4,12,1...|          56.0|         7.0|            10|                  1|              5|          2024|\n",
      "|       0|        1|       [iouring, bringin...|[iouring bringing...|       (1000,[10],[5.689...|[iouring, bringin...|[iouring bringing...|        (1000,[],[])|      [iouring, bringin...|[iouring bringing...|      (1000,[0,47,63,91...|          27.0|        21.0|            10|                  1|              5|          2024|\n",
      "|       0|        0|       [eliteolympus, , ...|[eliteolympus ,  ...|               (1000,[],[])|[show, hn, app, t...|[show hn, hn app,...|(1000,[0],[2.7748...|      [eliteolympus, , ...|[eliteolympus ,  ...|      (1000,[0,3,61,63,...|         569.0|       552.0|            10|                  1|              5|          2024|\n",
      "|       0|        0|       [building, better...|[building better,...|               (1000,[],[])|[building, better...|[building better,...|        (1000,[],[])|      [building, better...|[building better,...|      (1000,[0,112,166,...|         294.0|       119.0|            10|                  1|              5|          2024|\n",
      "|       0|        0|       [translate, userg...|[translate userge...|               (1000,[],[])|[translating, use...|[translating user...|        (1000,[],[])|      [translate, userg...|[translate userge...|      (1000,[0,60,76,11...|         280.0|      1383.0|            10|                  1|              5|          2024|\n",
      "|       0|        0|       [globalization, f...|[globalization fr...|               (1000,[],[])|[globalization, f...|[globalization fr...|(1000,[492],[6.78...|      [globalization, f...|[globalization fr...|      (1000,[0,3,24,35,...|           0.0|       745.0|            10|                  1|              5|          2024|\n",
      "|       0|        0|       [nasa, details, p...|[nasa details, de...|               (1000,[],[])|[nasa, details, p...|[nasa details, de...|        (1000,[],[])|      [nasa, details, p...|[nasa details, de...|      (1000,[0,63,112,1...|          36.0|       120.0|            10|                  1|              5|          2024|\n",
      "|       0|        0|       [antisemitism, gu...|[antisemitism gui...|               (1000,[],[])|[antisemitism, gu...|[antisemitism gui...|        (1000,[],[])|      [antisemitism, gu...|[antisemitism gui...|      (1000,[0,3,60,61,...|        1409.0|      1469.0|            10|                  1|              5|          2024|\n",
      "|       0|        1|       [garbage, collect...|[garbage collecto...|               (1000,[],[])|[garbage, collect...|[garbage collecto...|        (1000,[],[])|      [garbage, collect...|[garbage collecto...|      (1000,[0,258,281,...|         582.0|         7.0|            10|                  1|              5|          2024|\n",
      "|       0|        1|                   [wsjcom]|                  []|               (1000,[],[])|[theres, enough, ...|[theres enough, e...|(1000,[274,343,35...|                  [wsjcom]|                  []|              (1000,[],[])|          10.0|        41.0|            10|                  1|              5|          2024|\n",
      "|       0|        0|       [prask, orloj, , ...|[prask orloj, orl...|               (1000,[],[])|[prask, orloj, pr...|[prask orloj, orl...|        (1000,[],[])|      [prask, orloj, , ...|[prask orloj, orl...|      (1000,[0,112,169,...|        1123.0|        17.0|            10|                  1|              5|          2024|\n",
      "|       0|        0|       [microsoft, onedr...|[microsoft onedri...|       (1000,[629],[6.78...|[microsoft, onedr...|[microsoft onedri...|        (1000,[],[])|      [microsoft, onedr...|[microsoft onedri...|      (1000,[0,24,76,11...|         393.0|       415.0|            10|                  1|              5|          2024|\n",
      "|       0|        0|                   [wsjcom]|                  []|               (1000,[],[])|[virtual, workers...|[virtual workers,...|        (1000,[],[])|                  [wsjcom]|                  []|              (1000,[],[])|          10.0|       110.0|            10|                  1|              5|          2024|\n",
      "+--------+---------+---------------------------+--------------------+---------------------------+--------------------+--------------------+--------------------+--------------------------+--------------------+--------------------------+--------------+------------+--------------+-------------------+---------------+--------------+\n",
      "only showing top 20 rows\n",
      "\n"
     ]
    },
    {
     "name": "stderr",
     "output_type": "stream",
     "text": [
      "                                                                                \r"
     ]
    }
   ],
   "source": [
    "train_final.show()"
   ]
  },
  {
   "cell_type": "markdown",
   "metadata": {},
   "source": [
    "# Feature Selection - ChiSqSelector"
   ]
  },
  {
   "cell_type": "code",
   "execution_count": 24,
   "metadata": {},
   "outputs": [
    {
     "name": "stderr",
     "output_type": "stream",
     "text": [
      "24/05/25 21:23:38 WARN TaskSetManager: Stage 27 contains a task of very large size (6986 KiB). The maximum recommended task size is 1000 KiB.\n",
      "24/05/25 21:23:39 WARN TaskSetManager: Stage 28 contains a task of very large size (6986 KiB). The maximum recommended task size is 1000 KiB.\n",
      "24/05/25 21:23:50 WARN TaskSetManager: Stage 30 contains a task of very large size (6986 KiB). The maximum recommended task size is 1000 KiB.\n",
      "                                                                                \r"
     ]
    }
   ],
   "source": [
    "from pyspark.ml.feature import VectorAssembler, ChiSqSelector\n",
    "from pyspark.sql import SparkSession\n",
    "\n",
    "# Initialize Spark session\n",
    "spark = SparkSession.builder.appName('feature_selection').getOrCreate()\n",
    "\n",
    "# Combine features into a single vector column\n",
    "assembler = VectorAssembler(\n",
    "    inputCols=[\n",
    "        'comments',\n",
    "        'source_title_tfidf_features',\n",
    "        'title_tfidf_features',\n",
    "        'source_text_tfidf_features',\n",
    "        'domain_indexed',\n",
    "        'user_indexed',\n",
    "        'posted_at_hour',\n",
    "        'posted_at_dayofweek',\n",
    "        'posted_at_month',\n",
    "        'posted_at_year'\n",
    "    ],\n",
    "    outputCol='features'\n",
    ")\n",
    "train_feature = assembler.transform(train_final)\n",
    "test_feature = assembler.transform(test_final)\n",
    "\n",
    "# Apply ChiSqSelector\n",
    "selector = ChiSqSelector(\n",
    "    numTopFeatures=3, \n",
    "    featuresCol=\"features\", \n",
    "    outputCol=\"selectedFeatures\", \n",
    "    labelCol=\"frontpage\"\n",
    ")\n",
    "\n",
    "selector_model = selector.fit(train_feature)\n",
    "train_selected = selector_model.transform(train_feature)\n",
    "test_selected = selector_model.transform(test_feature)"
   ]
  },
  {
   "cell_type": "code",
   "execution_count": 26,
   "metadata": {},
   "outputs": [
    {
     "name": "stdout",
     "output_type": "stream",
     "text": [
      "Selected feature indices:  [0, 2156, 2397]\n",
      "Selected feature names:  ['comments', 'source_title_tfidf_features_2155', 'source_title_tfidf_features_2396']\n"
     ]
    }
   ],
   "source": [
    "# map the selected features to the original feature names\n",
    "\n",
    "selected_indices = selector_model.selectedFeatures\n",
    "\n",
    "# Print the selected features\n",
    "print(\"Selected feature indices: \", selected_indices)\n",
    "\n",
    "selected_features = selector_model.selectedFeatures\n",
    "feature_names = [\n",
    "    'comments',\n",
    "    'source_title_tfidf_features',\n",
    "    'title_tfidf_features',\n",
    "    'source_text_tfidf_features',\n",
    "    'combined_tfidf_features',\n",
    "    'domain_indexed',\n",
    "    'user_indexed',\n",
    "    'posted_at_hour',\n",
    "    'posted_at_dayofweek',\n",
    "    'posted_at_month',\n",
    "    'posted_at_year'\n",
    "]\n",
    "# Flatten the feature names to match the indices\n",
    "flattened_feature_names = []\n",
    "for name in feature_names:\n",
    "    if 'tfidf_features' in name:\n",
    "        # Assuming each TF-IDF feature is a vector of 1000 elements\n",
    "        flattened_feature_names.extend([name + f\"_{i}\" for i in range(10000)])\n",
    "    else:\n",
    "        flattened_feature_names.append(name)\n",
    "\n",
    "# Map selected indices back to the original feature names\n",
    "selected_feature_names = [flattened_feature_names[i] for i in selected_indices]\n",
    "\n",
    "# Print the selected feature names\n",
    "print(\"Selected feature names: \", selected_feature_names)\n",
    "\n",
    "\n"
   ]
  },
  {
   "cell_type": "markdown",
   "metadata": {},
   "source": [
    "# Train M"
   ]
  },
  {
   "cell_type": "markdown",
   "metadata": {},
   "source": [
    "## Gradient-boosted tree classifier"
   ]
  },
  {
   "cell_type": "code",
   "execution_count": 27,
   "metadata": {},
   "outputs": [],
   "source": [
    "from pyspark.ml.classification import GBTClassifier\n",
    "from pyspark.ml.feature import StringIndexer, VectorIndexer\n",
    "from pyspark.ml.evaluation import MulticlassClassificationEvaluator"
   ]
  },
  {
   "cell_type": "code",
   "execution_count": 29,
   "metadata": {},
   "outputs": [
    {
     "name": "stderr",
     "output_type": "stream",
     "text": [
      "24/05/25 21:46:31 WARN TaskSetManager: Stage 32 contains a task of very large size (6986 KiB). The maximum recommended task size is 1000 KiB.\n",
      "24/05/25 21:46:32 WARN TaskSetManager: Stage 33 contains a task of very large size (6986 KiB). The maximum recommended task size is 1000 KiB.\n",
      "24/05/25 21:46:44 WARN TaskSetManager: Stage 34 contains a task of very large size (6986 KiB). The maximum recommended task size is 1000 KiB.\n",
      "24/05/25 21:46:54 WARN TaskSetManager: Stage 36 contains a task of very large size (6986 KiB). The maximum recommended task size is 1000 KiB.\n",
      "24/05/25 21:47:03 WARN TaskSetManager: Stage 38 contains a task of very large size (6986 KiB). The maximum recommended task size is 1000 KiB.\n",
      "24/05/25 21:47:03 WARN TaskSetManager: Stage 40 contains a task of very large size (6986 KiB). The maximum recommended task size is 1000 KiB.\n",
      "24/05/25 21:47:03 WARN TaskSetManager: Stage 42 contains a task of very large size (6986 KiB). The maximum recommended task size is 1000 KiB.\n",
      "24/05/25 21:47:03 WARN TaskSetManager: Stage 44 contains a task of very large size (6986 KiB). The maximum recommended task size is 1000 KiB.\n",
      "24/05/25 21:47:04 WARN TaskSetManager: Stage 46 contains a task of very large size (6986 KiB). The maximum recommended task size is 1000 KiB.\n",
      "24/05/25 21:47:04 WARN TaskSetManager: Stage 48 contains a task of very large size (6986 KiB). The maximum recommended task size is 1000 KiB.\n",
      "24/05/25 21:47:04 WARN TaskSetManager: Stage 50 contains a task of very large size (6986 KiB). The maximum recommended task size is 1000 KiB.\n",
      "24/05/25 21:47:05 WARN TaskSetManager: Stage 52 contains a task of very large size (6986 KiB). The maximum recommended task size is 1000 KiB.\n",
      "24/05/25 21:47:05 WARN TaskSetManager: Stage 54 contains a task of very large size (6986 KiB). The maximum recommended task size is 1000 KiB.\n",
      "24/05/25 21:47:05 WARN TaskSetManager: Stage 56 contains a task of very large size (6986 KiB). The maximum recommended task size is 1000 KiB.\n",
      "24/05/25 21:47:05 WARN TaskSetManager: Stage 58 contains a task of very large size (6986 KiB). The maximum recommended task size is 1000 KiB.\n",
      "24/05/25 21:47:05 WARN TaskSetManager: Stage 60 contains a task of very large size (6986 KiB). The maximum recommended task size is 1000 KiB.\n",
      "24/05/25 21:47:06 WARN TaskSetManager: Stage 62 contains a task of very large size (6986 KiB). The maximum recommended task size is 1000 KiB.\n",
      "24/05/25 21:47:06 WARN TaskSetManager: Stage 64 contains a task of very large size (6986 KiB). The maximum recommended task size is 1000 KiB.\n",
      "24/05/25 21:47:06 WARN TaskSetManager: Stage 66 contains a task of very large size (6986 KiB). The maximum recommended task size is 1000 KiB.\n",
      "24/05/25 21:47:06 WARN TaskSetManager: Stage 68 contains a task of very large size (6986 KiB). The maximum recommended task size is 1000 KiB.\n",
      "24/05/25 21:47:06 WARN TaskSetManager: Stage 70 contains a task of very large size (6986 KiB). The maximum recommended task size is 1000 KiB.\n",
      "24/05/25 21:47:07 WARN TaskSetManager: Stage 72 contains a task of very large size (6986 KiB). The maximum recommended task size is 1000 KiB.\n",
      "24/05/25 21:47:07 WARN TaskSetManager: Stage 74 contains a task of very large size (6986 KiB). The maximum recommended task size is 1000 KiB.\n",
      "24/05/25 21:47:07 WARN TaskSetManager: Stage 76 contains a task of very large size (6986 KiB). The maximum recommended task size is 1000 KiB.\n",
      "24/05/25 21:47:07 WARN TaskSetManager: Stage 78 contains a task of very large size (6986 KiB). The maximum recommended task size is 1000 KiB.\n",
      "24/05/25 21:47:07 WARN TaskSetManager: Stage 80 contains a task of very large size (6986 KiB). The maximum recommended task size is 1000 KiB.\n",
      "24/05/25 21:47:07 WARN TaskSetManager: Stage 82 contains a task of very large size (6986 KiB). The maximum recommended task size is 1000 KiB.\n",
      "24/05/25 21:47:08 WARN TaskSetManager: Stage 84 contains a task of very large size (6986 KiB). The maximum recommended task size is 1000 KiB.\n",
      "24/05/25 21:47:08 WARN TaskSetManager: Stage 86 contains a task of very large size (6986 KiB). The maximum recommended task size is 1000 KiB.\n",
      "24/05/25 21:47:08 WARN TaskSetManager: Stage 88 contains a task of very large size (6986 KiB). The maximum recommended task size is 1000 KiB.\n",
      "24/05/25 21:47:08 WARN TaskSetManager: Stage 90 contains a task of very large size (6986 KiB). The maximum recommended task size is 1000 KiB.\n",
      "24/05/25 21:47:08 WARN TaskSetManager: Stage 92 contains a task of very large size (6986 KiB). The maximum recommended task size is 1000 KiB.\n",
      "24/05/25 21:47:09 WARN TaskSetManager: Stage 94 contains a task of very large size (6986 KiB). The maximum recommended task size is 1000 KiB.\n",
      "24/05/25 21:47:09 WARN TaskSetManager: Stage 96 contains a task of very large size (6986 KiB). The maximum recommended task size is 1000 KiB.\n",
      "24/05/25 21:47:09 WARN TaskSetManager: Stage 98 contains a task of very large size (6986 KiB). The maximum recommended task size is 1000 KiB.\n",
      "24/05/25 21:47:09 WARN TaskSetManager: Stage 100 contains a task of very large size (6986 KiB). The maximum recommended task size is 1000 KiB.\n",
      "24/05/25 21:47:09 WARN TaskSetManager: Stage 102 contains a task of very large size (6986 KiB). The maximum recommended task size is 1000 KiB.\n",
      "24/05/25 21:47:10 WARN TaskSetManager: Stage 104 contains a task of very large size (6986 KiB). The maximum recommended task size is 1000 KiB.\n",
      "24/05/25 21:47:10 WARN TaskSetManager: Stage 106 contains a task of very large size (6986 KiB). The maximum recommended task size is 1000 KiB.\n",
      "24/05/25 21:47:10 WARN TaskSetManager: Stage 108 contains a task of very large size (6986 KiB). The maximum recommended task size is 1000 KiB.\n",
      "24/05/25 21:47:10 WARN TaskSetManager: Stage 110 contains a task of very large size (6986 KiB). The maximum recommended task size is 1000 KiB.\n",
      "24/05/25 21:47:10 WARN TaskSetManager: Stage 112 contains a task of very large size (6986 KiB). The maximum recommended task size is 1000 KiB.\n",
      "24/05/25 21:47:10 WARN TaskSetManager: Stage 114 contains a task of very large size (6986 KiB). The maximum recommended task size is 1000 KiB.\n",
      "24/05/25 21:47:11 WARN TaskSetManager: Stage 116 contains a task of very large size (6986 KiB). The maximum recommended task size is 1000 KiB.\n",
      "24/05/25 21:47:11 WARN TaskSetManager: Stage 118 contains a task of very large size (6986 KiB). The maximum recommended task size is 1000 KiB.\n",
      "24/05/25 21:47:11 WARN TaskSetManager: Stage 120 contains a task of very large size (6986 KiB). The maximum recommended task size is 1000 KiB.\n",
      "24/05/25 21:47:11 WARN TaskSetManager: Stage 122 contains a task of very large size (6986 KiB). The maximum recommended task size is 1000 KiB.\n",
      "24/05/25 21:47:11 WARN TaskSetManager: Stage 124 contains a task of very large size (6986 KiB). The maximum recommended task size is 1000 KiB.\n",
      "24/05/25 21:47:12 WARN TaskSetManager: Stage 126 contains a task of very large size (6986 KiB). The maximum recommended task size is 1000 KiB.\n",
      "24/05/25 21:47:12 WARN TaskSetManager: Stage 128 contains a task of very large size (6986 KiB). The maximum recommended task size is 1000 KiB.\n",
      "24/05/25 21:47:12 WARN TaskSetManager: Stage 130 contains a task of very large size (6986 KiB). The maximum recommended task size is 1000 KiB.\n",
      "24/05/25 21:47:12 WARN TaskSetManager: Stage 132 contains a task of very large size (6986 KiB). The maximum recommended task size is 1000 KiB.\n",
      "24/05/25 21:47:13 WARN TaskSetManager: Stage 134 contains a task of very large size (6986 KiB). The maximum recommended task size is 1000 KiB.\n",
      "24/05/25 21:47:13 WARN TaskSetManager: Stage 136 contains a task of very large size (6986 KiB). The maximum recommended task size is 1000 KiB.\n",
      "24/05/25 21:47:18 WARN InstanceBuilder: Failed to load implementation from:dev.ludovic.netlib.blas.JNIBLAS\n",
      "[Stage 136:============================>                            (4 + 4) / 8]\r"
     ]
    },
    {
     "name": "stdout",
     "output_type": "stream",
     "text": [
      "accuracy is: 0.8062015503875969\n"
     ]
    },
    {
     "name": "stderr",
     "output_type": "stream",
     "text": [
      "                                                                                \r"
     ]
    }
   ],
   "source": [
    "# Train a GBT model.\n",
    "gbt = GBTClassifier(labelCol=\"frontpage\", featuresCol=\"selectedFeatures\", maxIter=10)\n",
    "# Train model\n",
    "model = gbt.fit(train_selected)\n",
    "# Make predictions.\n",
    "predictions = model.transform(test_selected)\n",
    "\n",
    "# Select (prediction, true label) and compute test error\n",
    "evaluator = MulticlassClassificationEvaluator(\n",
    "    labelCol=\"frontpage\", predictionCol=\"prediction\", metricName=\"accuracy\")\n",
    "accuracy = evaluator.evaluate(predictions)\n",
    "print('accuracy is:', accuracy)\n"
   ]
  },
  {
   "cell_type": "code",
   "execution_count": 30,
   "metadata": {},
   "outputs": [
    {
     "name": "stderr",
     "output_type": "stream",
     "text": [
      "24/05/25 21:47:20 WARN TaskSetManager: Stage 138 contains a task of very large size (6986 KiB). The maximum recommended task size is 1000 KiB.\n",
      "24/05/25 21:47:25 WARN TaskSetManager: Stage 139 contains a task of very large size (6986 KiB). The maximum recommended task size is 1000 KiB.\n",
      "                                                                                \r"
     ]
    },
    {
     "data": {
      "text/plain": [
       "array([[286,   5],\n",
       "       [ 70,  26]])"
      ]
     },
     "execution_count": 30,
     "metadata": {},
     "output_type": "execute_result"
    }
   ],
   "source": [
    "# Confusion matrix\n",
    "y_true = predictions.select(['frontpage']).collect()\n",
    "y_pred = predictions.select(['prediction']).collect()\n",
    "confusion_matrix(y_true, y_pred)\n",
    "\n"
   ]
  },
  {
   "cell_type": "code",
   "execution_count": 31,
   "metadata": {},
   "outputs": [
    {
     "name": "stderr",
     "output_type": "stream",
     "text": [
      "24/05/25 21:47:30 WARN TaskSetManager: Stage 140 contains a task of very large size (6986 KiB). The maximum recommended task size is 1000 KiB.\n",
      "                                                                                \r"
     ]
    },
    {
     "data": {
      "image/png": "[encoded data removed]",
      "text/plain": [
       "<Figure size 640x480 with 1 Axes>"
      ]
     },
     "metadata": {},
     "output_type": "display_data"
    }
   ],
   "source": [
    "# ROC curve\n",
    "y_prob = predictions.select(['probability']).collect()\n",
    "y_prob = np.array([x[0][1] for x in y_prob])\n",
    "fpr, tpr, thresholds = roc_curve(y_true, y_prob)\n",
    "roc_auc = roc_auc_score(y_true, y_prob)\n",
    "\n",
    "plt.figure()\n",
    "plt.plot(fpr, tpr, color='darkorange', lw=2, label='ROC curve (area = %0.2f)' % roc_auc)\n",
    "plt.plot([0, 1], [0, 1], color='navy', lw=2, linestyle='--')\n",
    "plt.xlim([0.0, 1.0])\n",
    "plt.ylim([0.0, 1.05])\n",
    "plt.xlabel('False Positive Rate')\n",
    "plt.ylabel('True Positive Rate')\n",
    "plt.title('Receiver Operating Characteristic')\n",
    "plt.legend(loc=\"lower right\")\n",
    "plt.show()"
   ]
  },
  {
   "cell_type": "markdown",
   "metadata": {},
   "source": [
    "## Logistic Regression - combined text features"
   ]
  },
  {
   "cell_type": "code",
   "execution_count": 32,
   "metadata": {},
   "outputs": [
    {
     "name": "stderr",
     "output_type": "stream",
     "text": [
      "24/05/25 21:47:38 WARN TaskSetManager: Stage 141 contains a task of very large size (6986 KiB). The maximum recommended task size is 1000 KiB.\n",
      "24/05/25 21:47:48 WARN TaskSetManager: Stage 143 contains a task of very large size (6986 KiB). The maximum recommended task size is 1000 KiB.\n",
      "24/05/25 21:47:58 WARN TaskSetManager: Stage 145 contains a task of very large size (6986 KiB). The maximum recommended task size is 1000 KiB.\n",
      "24/05/25 21:47:58 WARN TaskSetManager: Stage 147 contains a task of very large size (6986 KiB). The maximum recommended task size is 1000 KiB.\n",
      "24/05/25 21:47:59 WARN TaskSetManager: Stage 149 contains a task of very large size (6986 KiB). The maximum recommended task size is 1000 KiB.\n",
      "24/05/25 21:47:59 WARN TaskSetManager: Stage 151 contains a task of very large size (6986 KiB). The maximum recommended task size is 1000 KiB.\n",
      "24/05/25 21:47:59 WARN TaskSetManager: Stage 153 contains a task of very large size (6986 KiB). The maximum recommended task size is 1000 KiB.\n",
      "24/05/25 21:47:59 WARN TaskSetManager: Stage 155 contains a task of very large size (6986 KiB). The maximum recommended task size is 1000 KiB.\n",
      "24/05/25 21:47:59 WARN TaskSetManager: Stage 157 contains a task of very large size (6986 KiB). The maximum recommended task size is 1000 KiB.\n",
      "24/05/25 21:48:00 WARN TaskSetManager: Stage 159 contains a task of very large size (6986 KiB). The maximum recommended task size is 1000 KiB.\n",
      "24/05/25 21:48:00 WARN TaskSetManager: Stage 161 contains a task of very large size (6986 KiB). The maximum recommended task size is 1000 KiB.\n",
      "24/05/25 21:48:00 WARN TaskSetManager: Stage 163 contains a task of very large size (6986 KiB). The maximum recommended task size is 1000 KiB.\n",
      "24/05/25 21:48:00 WARN TaskSetManager: Stage 165 contains a task of very large size (6986 KiB). The maximum recommended task size is 1000 KiB.\n"
     ]
    }
   ],
   "source": [
    "lr = LogisticRegression(labelCol=\"frontpage\", featuresCol=\"selectedFeatures\")\n",
    "lrModel = lr.fit(train_selected)\n",
    "predictions = lrModel.transform(test_selected)\n",
    "# predictions.show()\n",
    "# predictions.select('probability', 'frontpage', 'prediction').show(truncate=False)"
   ]
  },
  {
   "cell_type": "code",
   "execution_count": 33,
   "metadata": {},
   "outputs": [
    {
     "name": "stderr",
     "output_type": "stream",
     "text": [
      "24/05/25 21:48:01 WARN TaskSetManager: Stage 167 contains a task of very large size (6986 KiB). The maximum recommended task size is 1000 KiB.\n",
      "                                                                                \r"
     ]
    },
    {
     "name": "stdout",
     "output_type": "stream",
     "text": [
      "AUC:  0.6398374856815578\n"
     ]
    },
    {
     "data": {
      "image/png": "[encoded data removed]",
      "text/plain": [
       "<Figure size 640x480 with 1 Axes>"
      ]
     },
     "metadata": {},
     "output_type": "display_data"
    }
   ],
   "source": [
    "pandas_df = predictions.select('frontpage','probability','prediction').toPandas()\n",
    "labels = pandas_df['frontpage']\n",
    "predicted = pandas_df['prediction']\n",
    "probabilities = pandas_df['probability'].apply(lambda x: x[1])\n",
    "\n",
    "\n",
    "# AUC/ROC\n",
    "fpr, tpr, thresholds = roc_curve(labels, probabilities)\n",
    "plt.plot(fpr, tpr)\n",
    "auc = roc_auc_score(labels, probabilities)\n",
    "plt.xlabel('False Positive Rate')\n",
    "plt.ylabel('True Positive Rate')\n",
    "plt.title('Receiver Operating Characteristic (ROC) Curve')\n",
    "print('AUC: ', auc)"
   ]
  },
  {
   "cell_type": "code",
   "execution_count": 34,
   "metadata": {},
   "outputs": [
    {
     "name": "stdout",
     "output_type": "stream",
     "text": [
      "[[287   4]\n",
      " [ 71  25]]\n",
      "accuracy:  0.8062015503875969\n"
     ]
    }
   ],
   "source": [
    "# Confusion matrix and accuracy\n",
    "cm = confusion_matrix(labels, predicted)\n",
    "\n",
    "print(cm)\n",
    "accuracy = accuracy_score(labels, predicted)\n",
    "print('accuracy: ', accuracy)\n"
   ]
  },
  {
   "cell_type": "markdown",
   "metadata": {},
   "source": [
    "## random forest"
   ]
  },
  {
   "cell_type": "code",
   "execution_count": 35,
   "metadata": {},
   "outputs": [],
   "source": [
    "from pyspark.ml.classification import DecisionTreeClassifier\n",
    "from pyspark.ml.feature import StringIndexer, VectorIndexer\n",
    "from pyspark.ml.evaluation import MulticlassClassificationEvaluator"
   ]
  },
  {
   "cell_type": "code",
   "execution_count": 36,
   "metadata": {},
   "outputs": [
    {
     "name": "stderr",
     "output_type": "stream",
     "text": [
      "24/05/25 21:48:07 WARN TaskSetManager: Stage 168 contains a task of very large size (6986 KiB). The maximum recommended task size is 1000 KiB.\n",
      "24/05/25 21:48:11 WARN TaskSetManager: Stage 171 contains a task of very large size (6986 KiB). The maximum recommended task size is 1000 KiB.\n",
      "24/05/25 21:48:12 WARN TaskSetManager: Stage 172 contains a task of very large size (6986 KiB). The maximum recommended task size is 1000 KiB.\n",
      "24/05/25 21:48:21 WARN TaskSetManager: Stage 173 contains a task of very large size (6986 KiB). The maximum recommended task size is 1000 KiB.\n",
      "24/05/25 21:48:29 WARN TaskSetManager: Stage 175 contains a task of very large size (6986 KiB). The maximum recommended task size is 1000 KiB.\n",
      "24/05/25 21:48:37 WARN TaskSetManager: Stage 177 contains a task of very large size (6986 KiB). The maximum recommended task size is 1000 KiB.\n",
      "24/05/25 21:48:37 WARN TaskSetManager: Stage 179 contains a task of very large size (6986 KiB). The maximum recommended task size is 1000 KiB.\n",
      "24/05/25 21:48:37 WARN TaskSetManager: Stage 181 contains a task of very large size (6986 KiB). The maximum recommended task size is 1000 KiB.\n",
      "24/05/25 21:48:38 WARN TaskSetManager: Stage 183 contains a task of very large size (6986 KiB). The maximum recommended task size is 1000 KiB.\n",
      "24/05/25 21:48:38 WARN TaskSetManager: Stage 185 contains a task of very large size (6986 KiB). The maximum recommended task size is 1000 KiB.\n",
      "[Stage 185:=======>                                                 (1 + 7) / 8]\r"
     ]
    },
    {
     "name": "stdout",
     "output_type": "stream",
     "text": [
      "accuracy = 0.81137 \n"
     ]
    },
    {
     "name": "stderr",
     "output_type": "stream",
     "text": [
      "                                                                                \r"
     ]
    }
   ],
   "source": [
    "# Train a DecisionTree model.\n",
    "dt = DecisionTreeClassifier(labelCol=\"frontpage\", featuresCol=\"selectedFeatures\")\n",
    "\n",
    "# Train model. \n",
    "model = dt.fit(train_selected)\n",
    "\n",
    "# Make predictions.\n",
    "predictions = model.transform(test_selected)\n",
    "\n",
    "# Select (prediction, true label) and compute test error\n",
    "evaluator = MulticlassClassificationEvaluator(\n",
    "    labelCol=\"frontpage\", predictionCol=\"prediction\", metricName=\"accuracy\")\n",
    "accuracy = evaluator.evaluate(predictions)\n",
    "print(\"accuracy = %g \" % (accuracy))"
   ]
  },
  {
   "cell_type": "code",
   "execution_count": 37,
   "metadata": {},
   "outputs": [
    {
     "name": "stderr",
     "output_type": "stream",
     "text": [
      "24/05/25 21:48:43 WARN TaskSetManager: Stage 187 contains a task of very large size (6986 KiB). The maximum recommended task size is 1000 KiB.\n",
      "24/05/25 21:48:47 WARN TaskSetManager: Stage 188 contains a task of very large size (6986 KiB). The maximum recommended task size is 1000 KiB.\n",
      "24/05/25 21:48:52 WARN TaskSetManager: Stage 189 contains a task of very large size (6986 KiB). The maximum recommended task size is 1000 KiB.\n",
      "                                                                                \r"
     ]
    },
    {
     "data": {
      "image/png": "[encoded data removed]",
      "text/plain": [
       "<Figure size 640x480 with 1 Axes>"
      ]
     },
     "metadata": {},
     "output_type": "display_data"
    }
   ],
   "source": [
    "# Confusion matrix\n",
    "y_true = predictions.select(['frontpage']).collect()\n",
    "y_pred = predictions.select(['prediction']).collect()\n",
    "confusion_matrix(y_true, y_pred)\n",
    "\n",
    "# ROC curve\n",
    "y_prob = predictions.select(['probability']).collect()\n",
    "y_prob = np.array([x[0][1] for x in y_prob])\n",
    "fpr, tpr, thresholds = roc_curve(y_true, y_prob)\n",
    "roc_auc = roc_auc_score(y_true, y_prob)\n",
    "\n",
    "plt.figure()\n",
    "plt.plot(fpr, tpr, color='darkorange', lw=2, label='ROC curve (area = %0.2f)' % roc_auc)\n",
    "plt.plot([0, 1], [0, 1], color='navy', lw=2, linestyle='--')\n",
    "plt.xlim([0.0, 1.0])\n",
    "plt.ylim([0.0, 1.05])\n",
    "plt.xlabel('False Positive Rate')\n",
    "plt.ylabel('True Positive Rate')\n",
    "plt.title('Receiver Operating Characteristic')\n",
    "plt.legend(loc=\"lower right\")\n",
    "plt.show()\n"
   ]
  },
  {
   "cell_type": "code",
   "execution_count": null,
   "metadata": {},
   "outputs": [],
   "source": []
  }
 ],
 "metadata": {
  "kernelspec": {
   "display_name": "my_environment",
   "language": "python",
   "name": "python3"
  },
  "language_info": {
   "codemirror_mode": {
    "name": "ipython",
    "version": 3
   },
   "file_extension": ".py",
   "mimetype": "text/x-python",
   "name": "python",
   "nbconvert_exporter": "python",
   "pygments_lexer": "ipython3",
   "version": "3.12.3"
  }
 },
 "nbformat": 4,
 "nbformat_minor": 2
}
